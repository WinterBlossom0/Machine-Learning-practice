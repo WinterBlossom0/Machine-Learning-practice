{
 "cells": [
  {
   "cell_type": "code",
   "execution_count": 1,
   "id": "5c3734fa",
   "metadata": {
    "_cell_guid": "b1076dfc-b9ad-4769-8c92-a6c4dae69d19",
    "_uuid": "8f2839f25d086af736a60e9eeb907d3b93b6e0e5",
    "execution": {
     "iopub.execute_input": "2024-07-05T06:16:10.530181Z",
     "iopub.status.busy": "2024-07-05T06:16:10.529734Z",
     "iopub.status.idle": "2024-07-05T06:16:12.906523Z",
     "shell.execute_reply": "2024-07-05T06:16:12.905543Z"
    },
    "papermill": {
     "duration": 2.390904,
     "end_time": "2024-07-05T06:16:12.909212",
     "exception": false,
     "start_time": "2024-07-05T06:16:10.518308",
     "status": "completed"
    },
    "tags": []
   },
   "outputs": [
    {
     "name": "stdout",
     "output_type": "stream",
     "text": [
      "Block executed\n"
     ]
    }
   ],
   "source": [
    "import numpy as np \n",
    "import pandas as pd\n",
    "import matplotlib.pyplot as plt\n",
    "from sklearn.model_selection import train_test_split\n",
    "from sklearn.metrics import confusion_matrix\n",
    "from dateutil.parser import parse\n",
    "import seaborn as sns\n",
    "print(\"Block executed\")"
   ]
  },
  {
   "cell_type": "code",
   "execution_count": 2,
   "id": "36446ac3",
   "metadata": {
    "execution": {
     "iopub.execute_input": "2024-07-05T06:16:12.930355Z",
     "iopub.status.busy": "2024-07-05T06:16:12.929827Z",
     "iopub.status.idle": "2024-07-05T06:16:13.127572Z",
     "shell.execute_reply": "2024-07-05T06:16:13.126360Z"
    },
    "papermill": {
     "duration": 0.211001,
     "end_time": "2024-07-05T06:16:13.130031",
     "exception": false,
     "start_time": "2024-07-05T06:16:12.919030",
     "status": "completed"
    },
    "tags": []
   },
   "outputs": [
    {
     "data": {
      "text/html": [
       "<div>\n",
       "<style scoped>\n",
       "    .dataframe tbody tr th:only-of-type {\n",
       "        vertical-align: middle;\n",
       "    }\n",
       "\n",
       "    .dataframe tbody tr th {\n",
       "        vertical-align: top;\n",
       "    }\n",
       "\n",
       "    .dataframe thead th {\n",
       "        text-align: right;\n",
       "    }\n",
       "</style>\n",
       "<table border=\"1\" class=\"dataframe\">\n",
       "  <thead>\n",
       "    <tr style=\"text-align: right;\">\n",
       "      <th></th>\n",
       "      <th>Booking_ID</th>\n",
       "      <th>number of adults</th>\n",
       "      <th>number of children</th>\n",
       "      <th>number of weekend nights</th>\n",
       "      <th>number of week nights</th>\n",
       "      <th>type of meal</th>\n",
       "      <th>car parking space</th>\n",
       "      <th>room type</th>\n",
       "      <th>lead time</th>\n",
       "      <th>market segment type</th>\n",
       "      <th>repeated</th>\n",
       "      <th>P-C</th>\n",
       "      <th>P-not-C</th>\n",
       "      <th>average price</th>\n",
       "      <th>special requests</th>\n",
       "      <th>date of reservation</th>\n",
       "      <th>booking status</th>\n",
       "    </tr>\n",
       "  </thead>\n",
       "  <tbody>\n",
       "    <tr>\n",
       "      <th>0</th>\n",
       "      <td>INN00001</td>\n",
       "      <td>1</td>\n",
       "      <td>1</td>\n",
       "      <td>2</td>\n",
       "      <td>5</td>\n",
       "      <td>Meal Plan 1</td>\n",
       "      <td>0</td>\n",
       "      <td>Room_Type 1</td>\n",
       "      <td>224</td>\n",
       "      <td>Offline</td>\n",
       "      <td>0</td>\n",
       "      <td>0</td>\n",
       "      <td>0</td>\n",
       "      <td>88.00</td>\n",
       "      <td>0</td>\n",
       "      <td>10/2/2015</td>\n",
       "      <td>Not_Canceled</td>\n",
       "    </tr>\n",
       "    <tr>\n",
       "      <th>1</th>\n",
       "      <td>INN00002</td>\n",
       "      <td>1</td>\n",
       "      <td>0</td>\n",
       "      <td>1</td>\n",
       "      <td>3</td>\n",
       "      <td>Not Selected</td>\n",
       "      <td>0</td>\n",
       "      <td>Room_Type 1</td>\n",
       "      <td>5</td>\n",
       "      <td>Online</td>\n",
       "      <td>0</td>\n",
       "      <td>0</td>\n",
       "      <td>0</td>\n",
       "      <td>106.68</td>\n",
       "      <td>1</td>\n",
       "      <td>11/6/2018</td>\n",
       "      <td>Not_Canceled</td>\n",
       "    </tr>\n",
       "    <tr>\n",
       "      <th>2</th>\n",
       "      <td>INN00003</td>\n",
       "      <td>2</td>\n",
       "      <td>1</td>\n",
       "      <td>1</td>\n",
       "      <td>3</td>\n",
       "      <td>Meal Plan 1</td>\n",
       "      <td>0</td>\n",
       "      <td>Room_Type 1</td>\n",
       "      <td>1</td>\n",
       "      <td>Online</td>\n",
       "      <td>0</td>\n",
       "      <td>0</td>\n",
       "      <td>0</td>\n",
       "      <td>50.00</td>\n",
       "      <td>0</td>\n",
       "      <td>2/28/2018</td>\n",
       "      <td>Canceled</td>\n",
       "    </tr>\n",
       "    <tr>\n",
       "      <th>3</th>\n",
       "      <td>INN00004</td>\n",
       "      <td>1</td>\n",
       "      <td>0</td>\n",
       "      <td>0</td>\n",
       "      <td>2</td>\n",
       "      <td>Meal Plan 1</td>\n",
       "      <td>0</td>\n",
       "      <td>Room_Type 1</td>\n",
       "      <td>211</td>\n",
       "      <td>Online</td>\n",
       "      <td>0</td>\n",
       "      <td>0</td>\n",
       "      <td>0</td>\n",
       "      <td>100.00</td>\n",
       "      <td>1</td>\n",
       "      <td>5/20/2017</td>\n",
       "      <td>Canceled</td>\n",
       "    </tr>\n",
       "    <tr>\n",
       "      <th>4</th>\n",
       "      <td>INN00005</td>\n",
       "      <td>1</td>\n",
       "      <td>0</td>\n",
       "      <td>1</td>\n",
       "      <td>2</td>\n",
       "      <td>Not Selected</td>\n",
       "      <td>0</td>\n",
       "      <td>Room_Type 1</td>\n",
       "      <td>48</td>\n",
       "      <td>Online</td>\n",
       "      <td>0</td>\n",
       "      <td>0</td>\n",
       "      <td>0</td>\n",
       "      <td>77.00</td>\n",
       "      <td>0</td>\n",
       "      <td>4/11/2018</td>\n",
       "      <td>Canceled</td>\n",
       "    </tr>\n",
       "  </tbody>\n",
       "</table>\n",
       "</div>"
      ],
      "text/plain": [
       "  Booking_ID  number of adults  number of children  number of weekend nights  \\\n",
       "0   INN00001                 1                   1                         2   \n",
       "1   INN00002                 1                   0                         1   \n",
       "2   INN00003                 2                   1                         1   \n",
       "3   INN00004                 1                   0                         0   \n",
       "4   INN00005                 1                   0                         1   \n",
       "\n",
       "   number of week nights  type of meal  car parking space    room type  \\\n",
       "0                      5   Meal Plan 1                  0  Room_Type 1   \n",
       "1                      3  Not Selected                  0  Room_Type 1   \n",
       "2                      3   Meal Plan 1                  0  Room_Type 1   \n",
       "3                      2   Meal Plan 1                  0  Room_Type 1   \n",
       "4                      2  Not Selected                  0  Room_Type 1   \n",
       "\n",
       "   lead time market segment type  repeated  P-C  P-not-C  average price  \\\n",
       "0        224             Offline         0    0        0          88.00   \n",
       "1          5              Online         0    0        0         106.68   \n",
       "2          1              Online         0    0        0          50.00   \n",
       "3        211              Online         0    0        0         100.00   \n",
       "4         48              Online         0    0        0          77.00   \n",
       "\n",
       "   special requests date of reservation booking status  \n",
       "0                 0           10/2/2015   Not_Canceled  \n",
       "1                 1           11/6/2018   Not_Canceled  \n",
       "2                 0           2/28/2018       Canceled  \n",
       "3                 1           5/20/2017       Canceled  \n",
       "4                 0           4/11/2018       Canceled  "
      ]
     },
     "execution_count": 2,
     "metadata": {},
     "output_type": "execute_result"
    }
   ],
   "source": [
    "hotel_df = pd.read_csv('/kaggle/input/hotel-booking-cancellation-prediction/booking.csv')\n",
    "hotel_df.head()"
   ]
  },
  {
   "cell_type": "code",
   "execution_count": 3,
   "id": "f07fb25c",
   "metadata": {
    "execution": {
     "iopub.execute_input": "2024-07-05T06:16:13.151280Z",
     "iopub.status.busy": "2024-07-05T06:16:13.150897Z",
     "iopub.status.idle": "2024-07-05T06:16:13.157514Z",
     "shell.execute_reply": "2024-07-05T06:16:13.156581Z"
    },
    "papermill": {
     "duration": 0.019843,
     "end_time": "2024-07-05T06:16:13.159779",
     "exception": false,
     "start_time": "2024-07-05T06:16:13.139936",
     "status": "completed"
    },
    "tags": []
   },
   "outputs": [
    {
     "data": {
      "text/plain": [
       "Index(['Booking_ID', 'number of adults', 'number of children',\n",
       "       'number of weekend nights', 'number of week nights', 'type of meal',\n",
       "       'car parking space', 'room type', 'lead time', 'market segment type',\n",
       "       'repeated', 'P-C', 'P-not-C', 'average price', 'special requests',\n",
       "       'date of reservation', 'booking status'],\n",
       "      dtype='object')"
      ]
     },
     "execution_count": 3,
     "metadata": {},
     "output_type": "execute_result"
    }
   ],
   "source": [
    "hotel_df.columns"
   ]
  },
  {
   "cell_type": "code",
   "execution_count": 4,
   "id": "cb489abb",
   "metadata": {
    "execution": {
     "iopub.execute_input": "2024-07-05T06:16:13.181461Z",
     "iopub.status.busy": "2024-07-05T06:16:13.181041Z",
     "iopub.status.idle": "2024-07-05T06:16:13.188894Z",
     "shell.execute_reply": "2024-07-05T06:16:13.187952Z"
    },
    "papermill": {
     "duration": 0.020948,
     "end_time": "2024-07-05T06:16:13.190974",
     "exception": false,
     "start_time": "2024-07-05T06:16:13.170026",
     "status": "completed"
    },
    "tags": []
   },
   "outputs": [
    {
     "data": {
      "text/plain": [
       "Booking_ID                   object\n",
       "number of adults              int64\n",
       "number of children            int64\n",
       "number of weekend nights      int64\n",
       "number of week nights         int64\n",
       "type of meal                 object\n",
       "car parking space             int64\n",
       "room type                    object\n",
       "lead time                     int64\n",
       "market segment type          object\n",
       "repeated                      int64\n",
       "P-C                           int64\n",
       "P-not-C                       int64\n",
       "average price               float64\n",
       "special requests              int64\n",
       "date of reservation          object\n",
       "booking status               object\n",
       "dtype: object"
      ]
     },
     "execution_count": 4,
     "metadata": {},
     "output_type": "execute_result"
    }
   ],
   "source": [
    "hotel_df.dtypes"
   ]
  },
  {
   "cell_type": "code",
   "execution_count": 5,
   "id": "b4755066",
   "metadata": {
    "execution": {
     "iopub.execute_input": "2024-07-05T06:16:13.213650Z",
     "iopub.status.busy": "2024-07-05T06:16:13.213271Z",
     "iopub.status.idle": "2024-07-05T06:16:13.224202Z",
     "shell.execute_reply": "2024-07-05T06:16:13.223217Z"
    },
    "papermill": {
     "duration": 0.025257,
     "end_time": "2024-07-05T06:16:13.226328",
     "exception": false,
     "start_time": "2024-07-05T06:16:13.201071",
     "status": "completed"
    },
    "tags": []
   },
   "outputs": [
    {
     "data": {
      "text/plain": [
       "array(['Meal Plan 1', 'Not Selected', 'Meal Plan 2', 'Meal Plan 3'],\n",
       "      dtype=object)"
      ]
     },
     "execution_count": 5,
     "metadata": {},
     "output_type": "execute_result"
    }
   ],
   "source": [
    "#for encoding\n",
    "hotel_df['type of meal'].unique()"
   ]
  },
  {
   "cell_type": "code",
   "execution_count": 6,
   "id": "bb770209",
   "metadata": {
    "execution": {
     "iopub.execute_input": "2024-07-05T06:16:13.248386Z",
     "iopub.status.busy": "2024-07-05T06:16:13.247970Z",
     "iopub.status.idle": "2024-07-05T06:16:13.256612Z",
     "shell.execute_reply": "2024-07-05T06:16:13.255600Z"
    },
    "papermill": {
     "duration": 0.02237,
     "end_time": "2024-07-05T06:16:13.258813",
     "exception": false,
     "start_time": "2024-07-05T06:16:13.236443",
     "status": "completed"
    },
    "tags": []
   },
   "outputs": [
    {
     "data": {
      "text/plain": [
       "array(['Room_Type 1', 'Room_Type 4', 'Room_Type 2', 'Room_Type 6',\n",
       "       'Room_Type 5', 'Room_Type 7', 'Room_Type 3'], dtype=object)"
      ]
     },
     "execution_count": 6,
     "metadata": {},
     "output_type": "execute_result"
    }
   ],
   "source": [
    "hotel_df['room type'].unique()"
   ]
  },
  {
   "cell_type": "code",
   "execution_count": 7,
   "id": "dd10eb17",
   "metadata": {
    "execution": {
     "iopub.execute_input": "2024-07-05T06:16:13.282026Z",
     "iopub.status.busy": "2024-07-05T06:16:13.280949Z",
     "iopub.status.idle": "2024-07-05T06:16:13.290495Z",
     "shell.execute_reply": "2024-07-05T06:16:13.289430Z"
    },
    "papermill": {
     "duration": 0.023455,
     "end_time": "2024-07-05T06:16:13.292792",
     "exception": false,
     "start_time": "2024-07-05T06:16:13.269337",
     "status": "completed"
    },
    "tags": []
   },
   "outputs": [
    {
     "data": {
      "text/plain": [
       "array([0, 1])"
      ]
     },
     "execution_count": 7,
     "metadata": {},
     "output_type": "execute_result"
    }
   ],
   "source": [
    "hotel_df['repeated'].unique()"
   ]
  },
  {
   "cell_type": "code",
   "execution_count": 8,
   "id": "b4561a9b",
   "metadata": {
    "execution": {
     "iopub.execute_input": "2024-07-05T06:16:13.315195Z",
     "iopub.status.busy": "2024-07-05T06:16:13.314824Z",
     "iopub.status.idle": "2024-07-05T06:16:13.322217Z",
     "shell.execute_reply": "2024-07-05T06:16:13.321294Z"
    },
    "papermill": {
     "duration": 0.021252,
     "end_time": "2024-07-05T06:16:13.324445",
     "exception": false,
     "start_time": "2024-07-05T06:16:13.303193",
     "status": "completed"
    },
    "tags": []
   },
   "outputs": [
    {
     "data": {
      "text/plain": [
       "array([ 0,  3,  1,  2, 11,  4,  5, 13,  6])"
      ]
     },
     "execution_count": 8,
     "metadata": {},
     "output_type": "execute_result"
    }
   ],
   "source": [
    "hotel_df['P-C'].unique()"
   ]
  },
  {
   "cell_type": "code",
   "execution_count": 9,
   "id": "2dd7ede9",
   "metadata": {
    "execution": {
     "iopub.execute_input": "2024-07-05T06:16:13.347047Z",
     "iopub.status.busy": "2024-07-05T06:16:13.346689Z",
     "iopub.status.idle": "2024-07-05T06:16:13.354174Z",
     "shell.execute_reply": "2024-07-05T06:16:13.353086Z"
    },
    "papermill": {
     "duration": 0.021401,
     "end_time": "2024-07-05T06:16:13.356483",
     "exception": false,
     "start_time": "2024-07-05T06:16:13.335082",
     "status": "completed"
    },
    "tags": []
   },
   "outputs": [
    {
     "data": {
      "text/plain": [
       "array([ 0,  5,  1,  3,  4, 12, 19,  2, 15, 17,  7, 20, 16, 50, 13,  6, 14,\n",
       "       34, 18,  8, 10, 23, 11, 49, 47, 53,  9, 33, 22, 24, 52, 21, 48, 28,\n",
       "       39, 25, 31, 38, 26, 51, 42, 37, 35, 56, 44, 27, 32, 55, 45, 30, 57,\n",
       "       46, 54, 43, 58, 41, 29, 40, 36])"
      ]
     },
     "execution_count": 9,
     "metadata": {},
     "output_type": "execute_result"
    }
   ],
   "source": [
    "hotel_df['P-not-C'].unique()"
   ]
  },
  {
   "cell_type": "code",
   "execution_count": 10,
   "id": "76a333cc",
   "metadata": {
    "execution": {
     "iopub.execute_input": "2024-07-05T06:16:13.379851Z",
     "iopub.status.busy": "2024-07-05T06:16:13.378915Z",
     "iopub.status.idle": "2024-07-05T06:16:13.388191Z",
     "shell.execute_reply": "2024-07-05T06:16:13.387148Z"
    },
    "papermill": {
     "duration": 0.023134,
     "end_time": "2024-07-05T06:16:13.390345",
     "exception": false,
     "start_time": "2024-07-05T06:16:13.367211",
     "status": "completed"
    },
    "tags": []
   },
   "outputs": [
    {
     "data": {
      "text/plain": [
       "array(['Offline', 'Online', 'Corporate', 'Aviation', 'Complementary'],\n",
       "      dtype=object)"
      ]
     },
     "execution_count": 10,
     "metadata": {},
     "output_type": "execute_result"
    }
   ],
   "source": [
    "hotel_df['market segment type'].unique()"
   ]
  },
  {
   "cell_type": "code",
   "execution_count": 11,
   "id": "cb89c316",
   "metadata": {
    "execution": {
     "iopub.execute_input": "2024-07-05T06:16:13.413635Z",
     "iopub.status.busy": "2024-07-05T06:16:13.412707Z",
     "iopub.status.idle": "2024-07-05T06:16:13.434807Z",
     "shell.execute_reply": "2024-07-05T06:16:13.433730Z"
    },
    "papermill": {
     "duration": 0.036111,
     "end_time": "2024-07-05T06:16:13.437095",
     "exception": false,
     "start_time": "2024-07-05T06:16:13.400984",
     "status": "completed"
    },
    "tags": []
   },
   "outputs": [
    {
     "data": {
      "text/plain": [
       "Booking_ID                  0\n",
       "number of adults            0\n",
       "number of children          0\n",
       "number of weekend nights    0\n",
       "number of week nights       0\n",
       "type of meal                0\n",
       "car parking space           0\n",
       "room type                   0\n",
       "lead time                   0\n",
       "market segment type         0\n",
       "repeated                    0\n",
       "P-C                         0\n",
       "P-not-C                     0\n",
       "average price               0\n",
       "special requests            0\n",
       "date of reservation         0\n",
       "booking status              0\n",
       "dtype: int64"
      ]
     },
     "execution_count": 11,
     "metadata": {},
     "output_type": "execute_result"
    }
   ],
   "source": [
    "#checking null values\n",
    "hotel_df.isna().sum()"
   ]
  },
  {
   "cell_type": "code",
   "execution_count": 12,
   "id": "868dc793",
   "metadata": {
    "execution": {
     "iopub.execute_input": "2024-07-05T06:16:13.460127Z",
     "iopub.status.busy": "2024-07-05T06:16:13.459757Z",
     "iopub.status.idle": "2024-07-05T06:16:13.483150Z",
     "shell.execute_reply": "2024-07-05T06:16:13.482159Z"
    },
    "papermill": {
     "duration": 0.037846,
     "end_time": "2024-07-05T06:16:13.485659",
     "exception": false,
     "start_time": "2024-07-05T06:16:13.447813",
     "status": "completed"
    },
    "tags": []
   },
   "outputs": [
    {
     "name": "stdout",
     "output_type": "stream",
     "text": [
      "Block executed\n"
     ]
    }
   ],
   "source": [
    "hotel_df.loc[hotel_df['type of meal'] == \"Meal Plan 1\", 'type of meal'] = 1\n",
    "hotel_df.loc[hotel_df['type of meal'] == \"Not Selected\", 'type of meal'] = 0\n",
    "hotel_df.loc[hotel_df['type of meal'] == \"Meal Plan 2\", 'type of meal'] = 2\n",
    "hotel_df.loc[hotel_df['type of meal'] == \"Meal Plan 3\", 'type of meal'] = 3\n",
    "print(\"Block executed\")"
   ]
  },
  {
   "cell_type": "code",
   "execution_count": 13,
   "id": "e52dfe0e",
   "metadata": {
    "execution": {
     "iopub.execute_input": "2024-07-05T06:16:13.508953Z",
     "iopub.status.busy": "2024-07-05T06:16:13.508605Z",
     "iopub.status.idle": "2024-07-05T06:16:13.545837Z",
     "shell.execute_reply": "2024-07-05T06:16:13.544414Z"
    },
    "papermill": {
     "duration": 0.051589,
     "end_time": "2024-07-05T06:16:13.548141",
     "exception": false,
     "start_time": "2024-07-05T06:16:13.496552",
     "status": "completed"
    },
    "tags": []
   },
   "outputs": [
    {
     "name": "stdout",
     "output_type": "stream",
     "text": [
      "Block executed\n"
     ]
    }
   ],
   "source": [
    "hotel_df.loc[hotel_df['room type'] == \"Room_Type 1\", \"room type\"] = 1\n",
    "hotel_df.loc[hotel_df['room type'] == \"Room_Type 2\", \"room type\"] = 2\n",
    "hotel_df.loc[hotel_df['room type'] == \"Room_Type 3\", \"room type\"] = 3\n",
    "hotel_df.loc[hotel_df['room type'] == \"Room_Type 4\", \"room type\"] = 4\n",
    "hotel_df.loc[hotel_df['room type'] == \"Room_Type 5\", \"room type\"] = 5\n",
    "hotel_df.loc[hotel_df['room type'] == \"Room_Type 6\", \"room type\"] = 6\n",
    "hotel_df.loc[hotel_df['room type'] == \"Room_Type 7\", \"room type\"] = 7\n",
    "print(\"Block executed\")"
   ]
  },
  {
   "cell_type": "code",
   "execution_count": 14,
   "id": "f421f093",
   "metadata": {
    "execution": {
     "iopub.execute_input": "2024-07-05T06:16:13.572229Z",
     "iopub.status.busy": "2024-07-05T06:16:13.571336Z",
     "iopub.status.idle": "2024-07-05T06:16:13.601849Z",
     "shell.execute_reply": "2024-07-05T06:16:13.600695Z"
    },
    "papermill": {
     "duration": 0.044927,
     "end_time": "2024-07-05T06:16:13.604106",
     "exception": false,
     "start_time": "2024-07-05T06:16:13.559179",
     "status": "completed"
    },
    "tags": []
   },
   "outputs": [
    {
     "name": "stdout",
     "output_type": "stream",
     "text": [
      "Block executed\n"
     ]
    }
   ],
   "source": [
    "hotel_df.loc[hotel_df['market segment type'] == \"Offline\", \"market segment type\"] = 0\n",
    "hotel_df.loc[hotel_df['market segment type'] == \"Online\", \"market segment type\"] = 1\n",
    "hotel_df.loc[hotel_df['market segment type'] == \"Corporate\", \"market segment type\"] = 2\n",
    "hotel_df.loc[hotel_df['market segment type'] == \"Aviation\", \"market segment type\"] = 3\n",
    "hotel_df.loc[hotel_df['market segment type'] == \"Complementary\", \"market segment type\"] = 4\n",
    "print(\"Block executed\")"
   ]
  },
  {
   "cell_type": "code",
   "execution_count": 15,
   "id": "38d2e552",
   "metadata": {
    "execution": {
     "iopub.execute_input": "2024-07-05T06:16:13.627974Z",
     "iopub.status.busy": "2024-07-05T06:16:13.627616Z",
     "iopub.status.idle": "2024-07-05T06:16:13.643908Z",
     "shell.execute_reply": "2024-07-05T06:16:13.642838Z"
    },
    "papermill": {
     "duration": 0.031037,
     "end_time": "2024-07-05T06:16:13.646312",
     "exception": false,
     "start_time": "2024-07-05T06:16:13.615275",
     "status": "completed"
    },
    "tags": []
   },
   "outputs": [
    {
     "name": "stdout",
     "output_type": "stream",
     "text": [
      "Block executed\n"
     ]
    }
   ],
   "source": [
    "hotel_df.loc[hotel_df['booking status'] == \"Not_Canceled\", \"booking status\"] = 0\n",
    "hotel_df.loc[hotel_df['booking status'] == \"Canceled\", \"booking status\"] = 1\n",
    "print(\"Block executed\")"
   ]
  },
  {
   "cell_type": "code",
   "execution_count": 16,
   "id": "12ffb598",
   "metadata": {
    "execution": {
     "iopub.execute_input": "2024-07-05T06:16:13.670251Z",
     "iopub.status.busy": "2024-07-05T06:16:13.669831Z",
     "iopub.status.idle": "2024-07-05T06:16:13.691573Z",
     "shell.execute_reply": "2024-07-05T06:16:13.690533Z"
    },
    "papermill": {
     "duration": 0.036446,
     "end_time": "2024-07-05T06:16:13.693982",
     "exception": false,
     "start_time": "2024-07-05T06:16:13.657536",
     "status": "completed"
    },
    "tags": []
   },
   "outputs": [
    {
     "data": {
      "text/plain": [
       "0       2015-10-02\n",
       "1       2018-11-06\n",
       "2       2018-02-28\n",
       "3       2017-05-20\n",
       "4       2018-04-11\n",
       "           ...    \n",
       "36280   2018-09-13\n",
       "36281   2017-10-15\n",
       "36282   2018-12-26\n",
       "36283   2018-07-06\n",
       "36284   2018-10-18\n",
       "Name: date of reservation, Length: 36285, dtype: datetime64[ns]"
      ]
     },
     "execution_count": 16,
     "metadata": {},
     "output_type": "execute_result"
    }
   ],
   "source": [
    "pd.to_datetime(hotel_df['date of reservation'], format='%m/%d/%Y', errors='coerce')"
   ]
  },
  {
   "cell_type": "code",
   "execution_count": 17,
   "id": "d79daa13",
   "metadata": {
    "execution": {
     "iopub.execute_input": "2024-07-05T06:16:13.718720Z",
     "iopub.status.busy": "2024-07-05T06:16:13.717922Z",
     "iopub.status.idle": "2024-07-05T06:16:13.746346Z",
     "shell.execute_reply": "2024-07-05T06:16:13.745050Z"
    },
    "papermill": {
     "duration": 0.043541,
     "end_time": "2024-07-05T06:16:13.748850",
     "exception": false,
     "start_time": "2024-07-05T06:16:13.705309",
     "status": "completed"
    },
    "tags": []
   },
   "outputs": [],
   "source": [
    "hotel_df.loc[hotel_df['date of reservation'] == \"2018-2-29\", \"date of reservation\"] = np.NaN\n",
    "hotel_df.dropna(axis=0, how='any',inplace = True)"
   ]
  },
  {
   "cell_type": "code",
   "execution_count": 18,
   "id": "47886c38",
   "metadata": {
    "execution": {
     "iopub.execute_input": "2024-07-05T06:16:13.773647Z",
     "iopub.status.busy": "2024-07-05T06:16:13.773282Z",
     "iopub.status.idle": "2024-07-05T06:16:13.843983Z",
     "shell.execute_reply": "2024-07-05T06:16:13.842943Z"
    },
    "papermill": {
     "duration": 0.08645,
     "end_time": "2024-07-05T06:16:13.846560",
     "exception": false,
     "start_time": "2024-07-05T06:16:13.760110",
     "status": "completed"
    },
    "tags": []
   },
   "outputs": [],
   "source": [
    "hotel_df[\"reservation year\"] = pd.DatetimeIndex(hotel_df['date of reservation']).year\n",
    "hotel_df[\"reservation month\"] =  pd.DatetimeIndex(hotel_df['date of reservation']).month\n",
    "hotel_df[\"reservation day\"] =  pd.DatetimeIndex(hotel_df['date of reservation']).day"
   ]
  },
  {
   "cell_type": "code",
   "execution_count": 19,
   "id": "b6b616b8",
   "metadata": {
    "execution": {
     "iopub.execute_input": "2024-07-05T06:16:13.870391Z",
     "iopub.status.busy": "2024-07-05T06:16:13.869992Z",
     "iopub.status.idle": "2024-07-05T06:16:14.095397Z",
     "shell.execute_reply": "2024-07-05T06:16:14.094320Z"
    },
    "papermill": {
     "duration": 0.240241,
     "end_time": "2024-07-05T06:16:14.097911",
     "exception": false,
     "start_time": "2024-07-05T06:16:13.857670",
     "status": "completed"
    },
    "tags": []
   },
   "outputs": [
    {
     "data": {
      "image/png": "[encoded data removed]",
      "text/plain": [
       "<Figure size 640x480 with 1 Axes>"
      ]
     },
     "metadata": {},
     "output_type": "display_data"
    }
   ],
   "source": [
    "#finding outliers\n",
    "plt.boxplot(hotel_df['number of adults'])\n",
    "plt.show()"
   ]
  },
  {
   "cell_type": "code",
   "execution_count": 20,
   "id": "95b63ff6",
   "metadata": {
    "execution": {
     "iopub.execute_input": "2024-07-05T06:16:14.122596Z",
     "iopub.status.busy": "2024-07-05T06:16:14.122200Z",
     "iopub.status.idle": "2024-07-05T06:16:14.599623Z",
     "shell.execute_reply": "2024-07-05T06:16:14.598487Z"
    },
    "papermill": {
     "duration": 0.492442,
     "end_time": "2024-07-05T06:16:14.601975",
     "exception": false,
     "start_time": "2024-07-05T06:16:14.109533",
     "status": "completed"
    },
    "tags": []
   },
   "outputs": [
    {
     "name": "stderr",
     "output_type": "stream",
     "text": [
      "/opt/conda/lib/python3.10/site-packages/seaborn/_oldcore.py:1119: FutureWarning: use_inf_as_na option is deprecated and will be removed in a future version. Convert inf values to NaN before operating instead.\n",
      "  with pd.option_context('mode.use_inf_as_na', True):\n"
     ]
    },
    {
     "data": {
      "text/plain": [
       "<Axes: xlabel='number of adults', ylabel='Count'>"
      ]
     },
     "execution_count": 20,
     "metadata": {},
     "output_type": "execute_result"
    },
    {
     "data": {
      "image/png": "[encoded data removed]",
      "text/plain": [
       "<Figure size 640x480 with 1 Axes>"
      ]
     },
     "metadata": {},
     "output_type": "display_data"
    }
   ],
   "source": [
    "tp_plot = hotel_df[hotel_df['booking status'] == 1] [\"number of adults\"]\n",
    "sns.histplot(tp_plot, kde = True)"
   ]
  },
  {
   "cell_type": "code",
   "execution_count": 21,
   "id": "4a44a43d",
   "metadata": {
    "execution": {
     "iopub.execute_input": "2024-07-05T06:16:14.628286Z",
     "iopub.status.busy": "2024-07-05T06:16:14.627300Z",
     "iopub.status.idle": "2024-07-05T06:16:14.639764Z",
     "shell.execute_reply": "2024-07-05T06:16:14.638554Z"
    },
    "papermill": {
     "duration": 0.027968,
     "end_time": "2024-07-05T06:16:14.642068",
     "exception": false,
     "start_time": "2024-07-05T06:16:14.614100",
     "status": "completed"
    },
    "tags": []
   },
   "outputs": [
    {
     "name": "stdout",
     "output_type": "stream",
     "text": [
      "Block executed\n"
     ]
    }
   ],
   "source": [
    "q1 = hotel_df['number of adults'].quantile(0.25)\n",
    "q3 = hotel_df['number of adults'].quantile(0.75)\n",
    "iqr = q3 - q1\n",
    "uw = q3 + iqr * 1.5\n",
    "lw = q1 - iqr * 1.5\n",
    "hotel_df.loc[hotel_df['number of adults'] < lw, \"number of adults\"] = lw \n",
    "hotel_df.loc[hotel_df['number of adults'] > uw, \"number of adults\"] = uw\n",
    "print(\"Block executed\")"
   ]
  },
  {
   "cell_type": "code",
   "execution_count": 22,
   "id": "047069a9",
   "metadata": {
    "execution": {
     "iopub.execute_input": "2024-07-05T06:16:14.668200Z",
     "iopub.status.busy": "2024-07-05T06:16:14.667791Z",
     "iopub.status.idle": "2024-07-05T06:16:14.839739Z",
     "shell.execute_reply": "2024-07-05T06:16:14.838601Z"
    },
    "papermill": {
     "duration": 0.187887,
     "end_time": "2024-07-05T06:16:14.842159",
     "exception": false,
     "start_time": "2024-07-05T06:16:14.654272",
     "status": "completed"
    },
    "tags": []
   },
   "outputs": [
    {
     "data": {
      "image/png": "[encoded data removed]",
      "text/plain": [
       "<Figure size 640x480 with 1 Axes>"
      ]
     },
     "metadata": {},
     "output_type": "display_data"
    }
   ],
   "source": [
    "plt.boxplot(hotel_df['number of children'])\n",
    "plt.show()"
   ]
  },
  {
   "cell_type": "code",
   "execution_count": 23,
   "id": "bcc0dbb5",
   "metadata": {
    "execution": {
     "iopub.execute_input": "2024-07-05T06:16:14.869161Z",
     "iopub.status.busy": "2024-07-05T06:16:14.868105Z",
     "iopub.status.idle": "2024-07-05T06:16:14.880174Z",
     "shell.execute_reply": "2024-07-05T06:16:14.878939Z"
    },
    "papermill": {
     "duration": 0.027884,
     "end_time": "2024-07-05T06:16:14.882302",
     "exception": false,
     "start_time": "2024-07-05T06:16:14.854418",
     "status": "completed"
    },
    "tags": []
   },
   "outputs": [
    {
     "name": "stdout",
     "output_type": "stream",
     "text": [
      "Block executed\n"
     ]
    }
   ],
   "source": [
    "q1 = hotel_df['number of children'].quantile(0.25)\n",
    "q3 = hotel_df['number of children'].quantile(0.75)\n",
    "iqr = q3 - q1\n",
    "uw = q3 + iqr * 1.5\n",
    "lw = q1 - iqr * 1.5\n",
    "hotel_df.loc[hotel_df['number of children'] < lw, \"number of children\"] = lw \n",
    "hotel_df.loc[hotel_df['number of children'] > uw, \"number of children\"] = uw\n",
    "print(\"Block executed\")"
   ]
  },
  {
   "cell_type": "code",
   "execution_count": 24,
   "id": "463c0002",
   "metadata": {
    "execution": {
     "iopub.execute_input": "2024-07-05T06:16:14.965761Z",
     "iopub.status.busy": "2024-07-05T06:16:14.965377Z",
     "iopub.status.idle": "2024-07-05T06:16:15.140611Z",
     "shell.execute_reply": "2024-07-05T06:16:15.139473Z"
    },
    "papermill": {
     "duration": 0.247628,
     "end_time": "2024-07-05T06:16:15.142810",
     "exception": false,
     "start_time": "2024-07-05T06:16:14.895182",
     "status": "completed"
    },
    "tags": []
   },
   "outputs": [
    {
     "data": {
      "image/png": "[encoded data removed]",
      "text/plain": [
       "<Figure size 640x480 with 1 Axes>"
      ]
     },
     "metadata": {},
     "output_type": "display_data"
    }
   ],
   "source": [
    "plt.boxplot(hotel_df['number of weekend nights'])\n",
    "plt.show()"
   ]
  },
  {
   "cell_type": "code",
   "execution_count": 25,
   "id": "aa823a78",
   "metadata": {
    "execution": {
     "iopub.execute_input": "2024-07-05T06:16:15.169712Z",
     "iopub.status.busy": "2024-07-05T06:16:15.169362Z",
     "iopub.status.idle": "2024-07-05T06:16:15.181050Z",
     "shell.execute_reply": "2024-07-05T06:16:15.179858Z"
    },
    "papermill": {
     "duration": 0.027812,
     "end_time": "2024-07-05T06:16:15.183264",
     "exception": false,
     "start_time": "2024-07-05T06:16:15.155452",
     "status": "completed"
    },
    "tags": []
   },
   "outputs": [
    {
     "name": "stdout",
     "output_type": "stream",
     "text": [
      "Block executed\n"
     ]
    }
   ],
   "source": [
    "q1 = hotel_df['number of weekend nights'].quantile(0.25)\n",
    "q3 = hotel_df['number of weekend nights'].quantile(0.75)\n",
    "iqr = q3 - q1\n",
    "uw = q3 + iqr * 1.5\n",
    "lw = q1 - iqr * 1.5\n",
    "hotel_df.loc[hotel_df['number of weekend nights'] < lw, \"number of weekend nights\"] = lw \n",
    "hotel_df.loc[hotel_df['number of weekend nights'] > uw, \"number of weekend nights\"] = uw\n",
    "print(\"Block executed\")"
   ]
  },
  {
   "cell_type": "code",
   "execution_count": 26,
   "id": "ee092bf3",
   "metadata": {
    "execution": {
     "iopub.execute_input": "2024-07-05T06:16:15.210723Z",
     "iopub.status.busy": "2024-07-05T06:16:15.210353Z",
     "iopub.status.idle": "2024-07-05T06:16:15.378400Z",
     "shell.execute_reply": "2024-07-05T06:16:15.377390Z"
    },
    "papermill": {
     "duration": 0.184293,
     "end_time": "2024-07-05T06:16:15.380705",
     "exception": false,
     "start_time": "2024-07-05T06:16:15.196412",
     "status": "completed"
    },
    "tags": []
   },
   "outputs": [
    {
     "data": {
      "image/png": "[encoded data removed]",
      "text/plain": [
       "<Figure size 640x480 with 1 Axes>"
      ]
     },
     "metadata": {},
     "output_type": "display_data"
    }
   ],
   "source": [
    "plt.boxplot(hotel_df['car parking space'])\n",
    "plt.show()"
   ]
  },
  {
   "cell_type": "code",
   "execution_count": 27,
   "id": "58e96603",
   "metadata": {
    "execution": {
     "iopub.execute_input": "2024-07-05T06:16:15.408796Z",
     "iopub.status.busy": "2024-07-05T06:16:15.407984Z",
     "iopub.status.idle": "2024-07-05T06:16:15.419708Z",
     "shell.execute_reply": "2024-07-05T06:16:15.418477Z"
    },
    "papermill": {
     "duration": 0.028405,
     "end_time": "2024-07-05T06:16:15.421968",
     "exception": false,
     "start_time": "2024-07-05T06:16:15.393563",
     "status": "completed"
    },
    "tags": []
   },
   "outputs": [
    {
     "name": "stdout",
     "output_type": "stream",
     "text": [
      "Block executed\n"
     ]
    }
   ],
   "source": [
    "q1 = hotel_df['car parking space'].quantile(0.25)\n",
    "q3 = hotel_df['car parking space'].quantile(0.75)\n",
    "iqr = q3 - q1\n",
    "uw = q3 + iqr * 1.5\n",
    "lw = q1 - iqr * 1.5\n",
    "hotel_df.loc[hotel_df['car parking space'] < lw, \"car parking space\"] = lw \n",
    "hotel_df.loc[hotel_df['car parking space'] > uw, \"car parking space\"] = uw\n",
    "print(\"Block executed\")"
   ]
  },
  {
   "cell_type": "code",
   "execution_count": 28,
   "id": "fbe816b2",
   "metadata": {
    "execution": {
     "iopub.execute_input": "2024-07-05T06:16:15.449833Z",
     "iopub.status.busy": "2024-07-05T06:16:15.448957Z",
     "iopub.status.idle": "2024-07-05T06:16:15.567354Z",
     "shell.execute_reply": "2024-07-05T06:16:15.566074Z"
    },
    "papermill": {
     "duration": 0.134892,
     "end_time": "2024-07-05T06:16:15.569770",
     "exception": false,
     "start_time": "2024-07-05T06:16:15.434878",
     "status": "completed"
    },
    "tags": []
   },
   "outputs": [
    {
     "data": {
      "image/png": "[encoded data removed]",
      "text/plain": [
       "<Figure size 640x480 with 1 Axes>"
      ]
     },
     "metadata": {},
     "output_type": "display_data"
    }
   ],
   "source": [
    "plt.boxplot(hotel_df['lead time'])\n",
    "plt.show()"
   ]
  },
  {
   "cell_type": "code",
   "execution_count": 29,
   "id": "c39c58ad",
   "metadata": {
    "execution": {
     "iopub.execute_input": "2024-07-05T06:16:15.601140Z",
     "iopub.status.busy": "2024-07-05T06:16:15.599695Z",
     "iopub.status.idle": "2024-07-05T06:16:15.614162Z",
     "shell.execute_reply": "2024-07-05T06:16:15.613141Z"
    },
    "papermill": {
     "duration": 0.03372,
     "end_time": "2024-07-05T06:16:15.617380",
     "exception": false,
     "start_time": "2024-07-05T06:16:15.583660",
     "status": "completed"
    },
    "tags": []
   },
   "outputs": [
    {
     "name": "stdout",
     "output_type": "stream",
     "text": [
      "Block executed\n"
     ]
    },
    {
     "name": "stderr",
     "output_type": "stream",
     "text": [
      "/tmp/ipykernel_18/1255550699.py:6: FutureWarning: Setting an item of incompatible dtype is deprecated and will raise an error in a future version of pandas. Value '-146.5' has dtype incompatible with int64, please explicitly cast to a compatible dtype first.\n",
      "  hotel_df.loc[hotel_df['lead time'] < lw, \"lead time\"] = lw\n"
     ]
    }
   ],
   "source": [
    "q1 = hotel_df['lead time'].quantile(0.25)\n",
    "q3 = hotel_df['lead time'].quantile(0.75)\n",
    "iqr = q3 - q1\n",
    "uw = q3 + iqr * 1.5\n",
    "lw = q1 - iqr * 1.5\n",
    "hotel_df.loc[hotel_df['lead time'] < lw, \"lead time\"] = lw \n",
    "hotel_df.loc[hotel_df['lead time'] > uw, \"lead time\"] = uw\n",
    "print(\"Block executed\")"
   ]
  },
  {
   "cell_type": "code",
   "execution_count": 30,
   "id": "c102e31b",
   "metadata": {
    "execution": {
     "iopub.execute_input": "2024-07-05T06:16:15.646630Z",
     "iopub.status.busy": "2024-07-05T06:16:15.646271Z",
     "iopub.status.idle": "2024-07-05T06:16:15.772785Z",
     "shell.execute_reply": "2024-07-05T06:16:15.771699Z"
    },
    "papermill": {
     "duration": 0.144276,
     "end_time": "2024-07-05T06:16:15.775128",
     "exception": false,
     "start_time": "2024-07-05T06:16:15.630852",
     "status": "completed"
    },
    "tags": []
   },
   "outputs": [
    {
     "data": {
      "image/png": "[encoded data removed]",
      "text/plain": [
       "<Figure size 640x480 with 1 Axes>"
      ]
     },
     "metadata": {},
     "output_type": "display_data"
    }
   ],
   "source": [
    "# a month is more important since it corresponds to vacations and holidays\n",
    "plt.boxplot(hotel_df['reservation month'])\n",
    "plt.show()"
   ]
  },
  {
   "cell_type": "code",
   "execution_count": 31,
   "id": "c0f5ae56",
   "metadata": {
    "execution": {
     "iopub.execute_input": "2024-07-05T06:16:15.804904Z",
     "iopub.status.busy": "2024-07-05T06:16:15.803875Z",
     "iopub.status.idle": "2024-07-05T06:16:15.970647Z",
     "shell.execute_reply": "2024-07-05T06:16:15.969581Z"
    },
    "papermill": {
     "duration": 0.184194,
     "end_time": "2024-07-05T06:16:15.972983",
     "exception": false,
     "start_time": "2024-07-05T06:16:15.788789",
     "status": "completed"
    },
    "tags": []
   },
   "outputs": [
    {
     "data": {
      "image/png": "[encoded data removed]",
      "text/plain": [
       "<Figure size 640x480 with 1 Axes>"
      ]
     },
     "metadata": {},
     "output_type": "display_data"
    }
   ],
   "source": [
    "plt.boxplot(hotel_df['repeated'])\n",
    "plt.show()"
   ]
  },
  {
   "cell_type": "code",
   "execution_count": 32,
   "id": "dbfe77e4",
   "metadata": {
    "execution": {
     "iopub.execute_input": "2024-07-05T06:16:16.002600Z",
     "iopub.status.busy": "2024-07-05T06:16:16.002235Z",
     "iopub.status.idle": "2024-07-05T06:16:16.127049Z",
     "shell.execute_reply": "2024-07-05T06:16:16.125947Z"
    },
    "papermill": {
     "duration": 0.142016,
     "end_time": "2024-07-05T06:16:16.129241",
     "exception": false,
     "start_time": "2024-07-05T06:16:15.987225",
     "status": "completed"
    },
    "tags": []
   },
   "outputs": [
    {
     "data": {
      "image/png": "[encoded data removed]",
      "text/plain": [
       "<Figure size 640x480 with 1 Axes>"
      ]
     },
     "metadata": {},
     "output_type": "display_data"
    }
   ],
   "source": [
    "plt.boxplot(hotel_df['P-C'])\n",
    "plt.show()"
   ]
  },
  {
   "cell_type": "code",
   "execution_count": 33,
   "id": "e678553b",
   "metadata": {
    "execution": {
     "iopub.execute_input": "2024-07-05T06:16:16.159838Z",
     "iopub.status.busy": "2024-07-05T06:16:16.158940Z",
     "iopub.status.idle": "2024-07-05T06:16:16.171294Z",
     "shell.execute_reply": "2024-07-05T06:16:16.170019Z"
    },
    "papermill": {
     "duration": 0.030312,
     "end_time": "2024-07-05T06:16:16.173539",
     "exception": false,
     "start_time": "2024-07-05T06:16:16.143227",
     "status": "completed"
    },
    "tags": []
   },
   "outputs": [
    {
     "name": "stdout",
     "output_type": "stream",
     "text": [
      "Block executed\n"
     ]
    }
   ],
   "source": [
    "q1 = hotel_df['P-C'].quantile(0.25)\n",
    "q3 = hotel_df['P-C'].quantile(0.75)\n",
    "iqr = q3 - q1\n",
    "uw = q3 + iqr * 1.5\n",
    "lw = q1 - iqr * 1.5\n",
    "hotel_df.loc[hotel_df['P-C'] < lw, \"P-C\"] = lw \n",
    "hotel_df.loc[hotel_df['P-C'] > uw, \"P-C\"] = uw\n",
    "print(\"Block executed\")"
   ]
  },
  {
   "cell_type": "code",
   "execution_count": 34,
   "id": "92086b14",
   "metadata": {
    "execution": {
     "iopub.execute_input": "2024-07-05T06:16:16.204746Z",
     "iopub.status.busy": "2024-07-05T06:16:16.203792Z",
     "iopub.status.idle": "2024-07-05T06:16:16.335092Z",
     "shell.execute_reply": "2024-07-05T06:16:16.333980Z"
    },
    "papermill": {
     "duration": 0.14946,
     "end_time": "2024-07-05T06:16:16.337552",
     "exception": false,
     "start_time": "2024-07-05T06:16:16.188092",
     "status": "completed"
    },
    "tags": []
   },
   "outputs": [
    {
     "data": {
      "image/png": "[encoded data removed]",
      "text/plain": [
       "<Figure size 640x480 with 1 Axes>"
      ]
     },
     "metadata": {},
     "output_type": "display_data"
    }
   ],
   "source": [
    "plt.boxplot(hotel_df['P-not-C'])\n",
    "plt.show()"
   ]
  },
  {
   "cell_type": "code",
   "execution_count": 35,
   "id": "050c10fd",
   "metadata": {
    "execution": {
     "iopub.execute_input": "2024-07-05T06:16:16.368097Z",
     "iopub.status.busy": "2024-07-05T06:16:16.367706Z",
     "iopub.status.idle": "2024-07-05T06:16:16.379770Z",
     "shell.execute_reply": "2024-07-05T06:16:16.378556Z"
    },
    "papermill": {
     "duration": 0.03017,
     "end_time": "2024-07-05T06:16:16.382060",
     "exception": false,
     "start_time": "2024-07-05T06:16:16.351890",
     "status": "completed"
    },
    "tags": []
   },
   "outputs": [
    {
     "name": "stdout",
     "output_type": "stream",
     "text": [
      "Block executed\n"
     ]
    }
   ],
   "source": [
    "q1 = hotel_df['P-not-C'].quantile(0.25)\n",
    "q3 = hotel_df['P-not-C'].quantile(0.75)\n",
    "iqr = q3 - q1\n",
    "uw = q3 + iqr * 1.5\n",
    "lw = q1 - iqr * 1.5\n",
    "hotel_df.loc[hotel_df['P-not-C'] < lw, \"P-not-C\"] = lw \n",
    "hotel_df.loc[hotel_df['P-not-C'] > uw, \"P-not-C\"] = uw\n",
    "print(\"Block executed\")"
   ]
  },
  {
   "cell_type": "code",
   "execution_count": 36,
   "id": "0c7d0250",
   "metadata": {
    "execution": {
     "iopub.execute_input": "2024-07-05T06:16:16.413279Z",
     "iopub.status.busy": "2024-07-05T06:16:16.412459Z",
     "iopub.status.idle": "2024-07-05T06:16:16.456911Z",
     "shell.execute_reply": "2024-07-05T06:16:16.455907Z"
    },
    "papermill": {
     "duration": 0.06253,
     "end_time": "2024-07-05T06:16:16.459245",
     "exception": false,
     "start_time": "2024-07-05T06:16:16.396715",
     "status": "completed"
    },
    "tags": []
   },
   "outputs": [
    {
     "data": {
      "text/html": [
       "<div>\n",
       "<style scoped>\n",
       "    .dataframe tbody tr th:only-of-type {\n",
       "        vertical-align: middle;\n",
       "    }\n",
       "\n",
       "    .dataframe tbody tr th {\n",
       "        vertical-align: top;\n",
       "    }\n",
       "\n",
       "    .dataframe thead th {\n",
       "        text-align: right;\n",
       "    }\n",
       "</style>\n",
       "<table border=\"1\" class=\"dataframe\">\n",
       "  <thead>\n",
       "    <tr style=\"text-align: right;\">\n",
       "      <th></th>\n",
       "      <th>Booking_ID</th>\n",
       "      <th>number of adults</th>\n",
       "      <th>number of children</th>\n",
       "      <th>number of weekend nights</th>\n",
       "      <th>number of week nights</th>\n",
       "      <th>type of meal</th>\n",
       "      <th>car parking space</th>\n",
       "      <th>room type</th>\n",
       "      <th>lead time</th>\n",
       "      <th>market segment type</th>\n",
       "      <th>repeated</th>\n",
       "      <th>P-C</th>\n",
       "      <th>P-not-C</th>\n",
       "      <th>average price</th>\n",
       "      <th>special requests</th>\n",
       "      <th>date of reservation</th>\n",
       "      <th>booking status</th>\n",
       "      <th>reservation year</th>\n",
       "      <th>reservation month</th>\n",
       "      <th>reservation day</th>\n",
       "    </tr>\n",
       "  </thead>\n",
       "  <tbody>\n",
       "    <tr>\n",
       "      <th>0</th>\n",
       "      <td>INN00001</td>\n",
       "      <td>2</td>\n",
       "      <td>0</td>\n",
       "      <td>2</td>\n",
       "      <td>5</td>\n",
       "      <td>1</td>\n",
       "      <td>0</td>\n",
       "      <td>1</td>\n",
       "      <td>224.0</td>\n",
       "      <td>0</td>\n",
       "      <td>0</td>\n",
       "      <td>0</td>\n",
       "      <td>0</td>\n",
       "      <td>88.00</td>\n",
       "      <td>0</td>\n",
       "      <td>10/2/2015</td>\n",
       "      <td>0</td>\n",
       "      <td>2015</td>\n",
       "      <td>10</td>\n",
       "      <td>2</td>\n",
       "    </tr>\n",
       "    <tr>\n",
       "      <th>1</th>\n",
       "      <td>INN00002</td>\n",
       "      <td>2</td>\n",
       "      <td>0</td>\n",
       "      <td>1</td>\n",
       "      <td>3</td>\n",
       "      <td>0</td>\n",
       "      <td>0</td>\n",
       "      <td>1</td>\n",
       "      <td>5.0</td>\n",
       "      <td>1</td>\n",
       "      <td>0</td>\n",
       "      <td>0</td>\n",
       "      <td>0</td>\n",
       "      <td>106.68</td>\n",
       "      <td>1</td>\n",
       "      <td>11/6/2018</td>\n",
       "      <td>0</td>\n",
       "      <td>2018</td>\n",
       "      <td>11</td>\n",
       "      <td>6</td>\n",
       "    </tr>\n",
       "    <tr>\n",
       "      <th>2</th>\n",
       "      <td>INN00003</td>\n",
       "      <td>2</td>\n",
       "      <td>0</td>\n",
       "      <td>1</td>\n",
       "      <td>3</td>\n",
       "      <td>1</td>\n",
       "      <td>0</td>\n",
       "      <td>1</td>\n",
       "      <td>1.0</td>\n",
       "      <td>1</td>\n",
       "      <td>0</td>\n",
       "      <td>0</td>\n",
       "      <td>0</td>\n",
       "      <td>50.00</td>\n",
       "      <td>0</td>\n",
       "      <td>2/28/2018</td>\n",
       "      <td>1</td>\n",
       "      <td>2018</td>\n",
       "      <td>2</td>\n",
       "      <td>28</td>\n",
       "    </tr>\n",
       "    <tr>\n",
       "      <th>3</th>\n",
       "      <td>INN00004</td>\n",
       "      <td>2</td>\n",
       "      <td>0</td>\n",
       "      <td>0</td>\n",
       "      <td>2</td>\n",
       "      <td>1</td>\n",
       "      <td>0</td>\n",
       "      <td>1</td>\n",
       "      <td>211.0</td>\n",
       "      <td>1</td>\n",
       "      <td>0</td>\n",
       "      <td>0</td>\n",
       "      <td>0</td>\n",
       "      <td>100.00</td>\n",
       "      <td>1</td>\n",
       "      <td>5/20/2017</td>\n",
       "      <td>1</td>\n",
       "      <td>2017</td>\n",
       "      <td>5</td>\n",
       "      <td>20</td>\n",
       "    </tr>\n",
       "    <tr>\n",
       "      <th>4</th>\n",
       "      <td>INN00005</td>\n",
       "      <td>2</td>\n",
       "      <td>0</td>\n",
       "      <td>1</td>\n",
       "      <td>2</td>\n",
       "      <td>0</td>\n",
       "      <td>0</td>\n",
       "      <td>1</td>\n",
       "      <td>48.0</td>\n",
       "      <td>1</td>\n",
       "      <td>0</td>\n",
       "      <td>0</td>\n",
       "      <td>0</td>\n",
       "      <td>77.00</td>\n",
       "      <td>0</td>\n",
       "      <td>4/11/2018</td>\n",
       "      <td>1</td>\n",
       "      <td>2018</td>\n",
       "      <td>4</td>\n",
       "      <td>11</td>\n",
       "    </tr>\n",
       "    <tr>\n",
       "      <th>...</th>\n",
       "      <td>...</td>\n",
       "      <td>...</td>\n",
       "      <td>...</td>\n",
       "      <td>...</td>\n",
       "      <td>...</td>\n",
       "      <td>...</td>\n",
       "      <td>...</td>\n",
       "      <td>...</td>\n",
       "      <td>...</td>\n",
       "      <td>...</td>\n",
       "      <td>...</td>\n",
       "      <td>...</td>\n",
       "      <td>...</td>\n",
       "      <td>...</td>\n",
       "      <td>...</td>\n",
       "      <td>...</td>\n",
       "      <td>...</td>\n",
       "      <td>...</td>\n",
       "      <td>...</td>\n",
       "      <td>...</td>\n",
       "    </tr>\n",
       "    <tr>\n",
       "      <th>36280</th>\n",
       "      <td>INN36282</td>\n",
       "      <td>2</td>\n",
       "      <td>0</td>\n",
       "      <td>0</td>\n",
       "      <td>2</td>\n",
       "      <td>2</td>\n",
       "      <td>0</td>\n",
       "      <td>1</td>\n",
       "      <td>289.5</td>\n",
       "      <td>1</td>\n",
       "      <td>0</td>\n",
       "      <td>0</td>\n",
       "      <td>0</td>\n",
       "      <td>115.00</td>\n",
       "      <td>1</td>\n",
       "      <td>9/13/2018</td>\n",
       "      <td>1</td>\n",
       "      <td>2018</td>\n",
       "      <td>9</td>\n",
       "      <td>13</td>\n",
       "    </tr>\n",
       "    <tr>\n",
       "      <th>36281</th>\n",
       "      <td>INN36283</td>\n",
       "      <td>2</td>\n",
       "      <td>0</td>\n",
       "      <td>1</td>\n",
       "      <td>3</td>\n",
       "      <td>1</td>\n",
       "      <td>0</td>\n",
       "      <td>1</td>\n",
       "      <td>34.0</td>\n",
       "      <td>1</td>\n",
       "      <td>0</td>\n",
       "      <td>0</td>\n",
       "      <td>0</td>\n",
       "      <td>107.55</td>\n",
       "      <td>1</td>\n",
       "      <td>10/15/2017</td>\n",
       "      <td>0</td>\n",
       "      <td>2017</td>\n",
       "      <td>10</td>\n",
       "      <td>15</td>\n",
       "    </tr>\n",
       "    <tr>\n",
       "      <th>36282</th>\n",
       "      <td>INN36284</td>\n",
       "      <td>2</td>\n",
       "      <td>0</td>\n",
       "      <td>1</td>\n",
       "      <td>3</td>\n",
       "      <td>1</td>\n",
       "      <td>0</td>\n",
       "      <td>4</td>\n",
       "      <td>83.0</td>\n",
       "      <td>1</td>\n",
       "      <td>0</td>\n",
       "      <td>0</td>\n",
       "      <td>0</td>\n",
       "      <td>105.61</td>\n",
       "      <td>1</td>\n",
       "      <td>12/26/2018</td>\n",
       "      <td>0</td>\n",
       "      <td>2018</td>\n",
       "      <td>12</td>\n",
       "      <td>26</td>\n",
       "    </tr>\n",
       "    <tr>\n",
       "      <th>36283</th>\n",
       "      <td>INN36285</td>\n",
       "      <td>2</td>\n",
       "      <td>0</td>\n",
       "      <td>0</td>\n",
       "      <td>4</td>\n",
       "      <td>1</td>\n",
       "      <td>0</td>\n",
       "      <td>1</td>\n",
       "      <td>121.0</td>\n",
       "      <td>0</td>\n",
       "      <td>0</td>\n",
       "      <td>0</td>\n",
       "      <td>0</td>\n",
       "      <td>96.90</td>\n",
       "      <td>1</td>\n",
       "      <td>7/6/2018</td>\n",
       "      <td>0</td>\n",
       "      <td>2018</td>\n",
       "      <td>7</td>\n",
       "      <td>6</td>\n",
       "    </tr>\n",
       "    <tr>\n",
       "      <th>36284</th>\n",
       "      <td>INN36286</td>\n",
       "      <td>2</td>\n",
       "      <td>0</td>\n",
       "      <td>0</td>\n",
       "      <td>5</td>\n",
       "      <td>1</td>\n",
       "      <td>0</td>\n",
       "      <td>4</td>\n",
       "      <td>44.0</td>\n",
       "      <td>1</td>\n",
       "      <td>0</td>\n",
       "      <td>0</td>\n",
       "      <td>0</td>\n",
       "      <td>133.44</td>\n",
       "      <td>3</td>\n",
       "      <td>10/18/2018</td>\n",
       "      <td>0</td>\n",
       "      <td>2018</td>\n",
       "      <td>10</td>\n",
       "      <td>18</td>\n",
       "    </tr>\n",
       "  </tbody>\n",
       "</table>\n",
       "<p>36248 rows × 20 columns</p>\n",
       "</div>"
      ],
      "text/plain": [
       "      Booking_ID  number of adults  number of children  \\\n",
       "0       INN00001                 2                   0   \n",
       "1       INN00002                 2                   0   \n",
       "2       INN00003                 2                   0   \n",
       "3       INN00004                 2                   0   \n",
       "4       INN00005                 2                   0   \n",
       "...          ...               ...                 ...   \n",
       "36280   INN36282                 2                   0   \n",
       "36281   INN36283                 2                   0   \n",
       "36282   INN36284                 2                   0   \n",
       "36283   INN36285                 2                   0   \n",
       "36284   INN36286                 2                   0   \n",
       "\n",
       "       number of weekend nights  number of week nights type of meal  \\\n",
       "0                             2                      5            1   \n",
       "1                             1                      3            0   \n",
       "2                             1                      3            1   \n",
       "3                             0                      2            1   \n",
       "4                             1                      2            0   \n",
       "...                         ...                    ...          ...   \n",
       "36280                         0                      2            2   \n",
       "36281                         1                      3            1   \n",
       "36282                         1                      3            1   \n",
       "36283                         0                      4            1   \n",
       "36284                         0                      5            1   \n",
       "\n",
       "       car parking space room type  lead time market segment type  repeated  \\\n",
       "0                      0         1      224.0                   0         0   \n",
       "1                      0         1        5.0                   1         0   \n",
       "2                      0         1        1.0                   1         0   \n",
       "3                      0         1      211.0                   1         0   \n",
       "4                      0         1       48.0                   1         0   \n",
       "...                  ...       ...        ...                 ...       ...   \n",
       "36280                  0         1      289.5                   1         0   \n",
       "36281                  0         1       34.0                   1         0   \n",
       "36282                  0         4       83.0                   1         0   \n",
       "36283                  0         1      121.0                   0         0   \n",
       "36284                  0         4       44.0                   1         0   \n",
       "\n",
       "       P-C  P-not-C  average price  special requests date of reservation  \\\n",
       "0        0        0          88.00                 0           10/2/2015   \n",
       "1        0        0         106.68                 1           11/6/2018   \n",
       "2        0        0          50.00                 0           2/28/2018   \n",
       "3        0        0         100.00                 1           5/20/2017   \n",
       "4        0        0          77.00                 0           4/11/2018   \n",
       "...    ...      ...            ...               ...                 ...   \n",
       "36280    0        0         115.00                 1           9/13/2018   \n",
       "36281    0        0         107.55                 1          10/15/2017   \n",
       "36282    0        0         105.61                 1          12/26/2018   \n",
       "36283    0        0          96.90                 1            7/6/2018   \n",
       "36284    0        0         133.44                 3          10/18/2018   \n",
       "\n",
       "      booking status  reservation year  reservation month  reservation day  \n",
       "0                  0              2015                 10                2  \n",
       "1                  0              2018                 11                6  \n",
       "2                  1              2018                  2               28  \n",
       "3                  1              2017                  5               20  \n",
       "4                  1              2018                  4               11  \n",
       "...              ...               ...                ...              ...  \n",
       "36280              1              2018                  9               13  \n",
       "36281              0              2017                 10               15  \n",
       "36282              0              2018                 12               26  \n",
       "36283              0              2018                  7                6  \n",
       "36284              0              2018                 10               18  \n",
       "\n",
       "[36248 rows x 20 columns]"
      ]
     },
     "execution_count": 36,
     "metadata": {},
     "output_type": "execute_result"
    }
   ],
   "source": [
    "hotel_df.dropna(axis=0, how='any')"
   ]
  },
  {
   "cell_type": "code",
   "execution_count": 37,
   "id": "cbfe2906",
   "metadata": {
    "execution": {
     "iopub.execute_input": "2024-07-05T06:16:16.491504Z",
     "iopub.status.busy": "2024-07-05T06:16:16.490785Z",
     "iopub.status.idle": "2024-07-05T06:16:17.035620Z",
     "shell.execute_reply": "2024-07-05T06:16:17.034470Z"
    },
    "papermill": {
     "duration": 0.563881,
     "end_time": "2024-07-05T06:16:17.038243",
     "exception": false,
     "start_time": "2024-07-05T06:16:16.474362",
     "status": "completed"
    },
    "tags": []
   },
   "outputs": [],
   "source": [
    "from imblearn.over_sampling import RandomOverSampler\n",
    "\n",
    "def datasetSampler(dataframe,oversample=False):\n",
    "  x=hotel_df[['number of adults', 'number of children',\n",
    "       'number of weekend nights', 'number of week nights', 'type of meal',\n",
    "       'car parking space', 'room type', 'lead time', 'market segment type',\n",
    "       'repeated', 'P-C', 'P-not-C', 'average price', 'special requests','reservation year','reservation month','reservation day']]   #Splits the dataframe consisting of all the columns other than the output column.\n",
    "  y=hotel_df['booking status'].astype('int64')   #Splits the dataframe into the result column\n",
    "\n",
    "  if oversample:                      #This is used to over sample in case a certain result has lesser data points in the given dataset\n",
    "    ros=RandomOverSampler()\n",
    "    x,y=ros.fit_resample(x,y)\n",
    "\n",
    "  data=np.hstack((x,np.reshape(y,(-1,1))))    #hstack() is used to stack the input columns and output column in a horizontal manner.\n",
    "                                              #Also since x is 2 dimensional and y is single dimension we need to reshape the dimension of y for hstack() to work.\n",
    "\n",
    "  return data,x,y\n",
    "\n",
    "data,X,Y=datasetSampler(hotel_df,True)"
   ]
  },
  {
   "cell_type": "code",
   "execution_count": 38,
   "id": "38f8e6d9",
   "metadata": {
    "execution": {
     "iopub.execute_input": "2024-07-05T06:16:17.070558Z",
     "iopub.status.busy": "2024-07-05T06:16:17.070038Z",
     "iopub.status.idle": "2024-07-05T06:16:17.108677Z",
     "shell.execute_reply": "2024-07-05T06:16:17.107750Z"
    },
    "papermill": {
     "duration": 0.05766,
     "end_time": "2024-07-05T06:16:17.111307",
     "exception": false,
     "start_time": "2024-07-05T06:16:17.053647",
     "status": "completed"
    },
    "tags": []
   },
   "outputs": [],
   "source": [
    "X_train,X_test,Y_train,Y_test=train_test_split(X,Y,random_state=1,stratify=Y,test_size=0.2)"
   ]
  },
  {
   "cell_type": "code",
   "execution_count": 39,
   "id": "32ec5333",
   "metadata": {
    "execution": {
     "iopub.execute_input": "2024-07-05T06:16:17.143180Z",
     "iopub.status.busy": "2024-07-05T06:16:17.142775Z",
     "iopub.status.idle": "2024-07-05T06:16:17.209492Z",
     "shell.execute_reply": "2024-07-05T06:16:17.208370Z"
    },
    "papermill": {
     "duration": 0.085328,
     "end_time": "2024-07-05T06:16:17.211820",
     "exception": false,
     "start_time": "2024-07-05T06:16:17.126492",
     "status": "completed"
    },
    "tags": []
   },
   "outputs": [
    {
     "data": {
      "text/html": [
       "<style>#sk-container-id-1 {color: black;background-color: white;}#sk-container-id-1 pre{padding: 0;}#sk-container-id-1 div.sk-toggleable {background-color: white;}#sk-container-id-1 label.sk-toggleable__label {cursor: pointer;display: block;width: 100%;margin-bottom: 0;padding: 0.3em;box-sizing: border-box;text-align: center;}#sk-container-id-1 label.sk-toggleable__label-arrow:before {content: \"▸\";float: left;margin-right: 0.25em;color: #696969;}#sk-container-id-1 label.sk-toggleable__label-arrow:hover:before {color: black;}#sk-container-id-1 div.sk-estimator:hover label.sk-toggleable__label-arrow:before {color: black;}#sk-container-id-1 div.sk-toggleable__content {max-height: 0;max-width: 0;overflow: hidden;text-align: left;background-color: #f0f8ff;}#sk-container-id-1 div.sk-toggleable__content pre {margin: 0.2em;color: black;border-radius: 0.25em;background-color: #f0f8ff;}#sk-container-id-1 input.sk-toggleable__control:checked~div.sk-toggleable__content {max-height: 200px;max-width: 100%;overflow: auto;}#sk-container-id-1 input.sk-toggleable__control:checked~label.sk-toggleable__label-arrow:before {content: \"▾\";}#sk-container-id-1 div.sk-estimator input.sk-toggleable__control:checked~label.sk-toggleable__label {background-color: #d4ebff;}#sk-container-id-1 div.sk-label input.sk-toggleable__control:checked~label.sk-toggleable__label {background-color: #d4ebff;}#sk-container-id-1 input.sk-hidden--visually {border: 0;clip: rect(1px 1px 1px 1px);clip: rect(1px, 1px, 1px, 1px);height: 1px;margin: -1px;overflow: hidden;padding: 0;position: absolute;width: 1px;}#sk-container-id-1 div.sk-estimator {font-family: monospace;background-color: #f0f8ff;border: 1px dotted black;border-radius: 0.25em;box-sizing: border-box;margin-bottom: 0.5em;}#sk-container-id-1 div.sk-estimator:hover {background-color: #d4ebff;}#sk-container-id-1 div.sk-parallel-item::after {content: \"\";width: 100%;border-bottom: 1px solid gray;flex-grow: 1;}#sk-container-id-1 div.sk-label:hover label.sk-toggleable__label {background-color: #d4ebff;}#sk-container-id-1 div.sk-serial::before {content: \"\";position: absolute;border-left: 1px solid gray;box-sizing: border-box;top: 0;bottom: 0;left: 50%;z-index: 0;}#sk-container-id-1 div.sk-serial {display: flex;flex-direction: column;align-items: center;background-color: white;padding-right: 0.2em;padding-left: 0.2em;position: relative;}#sk-container-id-1 div.sk-item {position: relative;z-index: 1;}#sk-container-id-1 div.sk-parallel {display: flex;align-items: stretch;justify-content: center;background-color: white;position: relative;}#sk-container-id-1 div.sk-item::before, #sk-container-id-1 div.sk-parallel-item::before {content: \"\";position: absolute;border-left: 1px solid gray;box-sizing: border-box;top: 0;bottom: 0;left: 50%;z-index: -1;}#sk-container-id-1 div.sk-parallel-item {display: flex;flex-direction: column;z-index: 1;position: relative;background-color: white;}#sk-container-id-1 div.sk-parallel-item:first-child::after {align-self: flex-end;width: 50%;}#sk-container-id-1 div.sk-parallel-item:last-child::after {align-self: flex-start;width: 50%;}#sk-container-id-1 div.sk-parallel-item:only-child::after {width: 0;}#sk-container-id-1 div.sk-dashed-wrapped {border: 1px dashed gray;margin: 0 0.4em 0.5em 0.4em;box-sizing: border-box;padding-bottom: 0.4em;background-color: white;}#sk-container-id-1 div.sk-label label {font-family: monospace;font-weight: bold;display: inline-block;line-height: 1.2em;}#sk-container-id-1 div.sk-label-container {text-align: center;}#sk-container-id-1 div.sk-container {/* jupyter's `normalize.less` sets `[hidden] { display: none; }` but bootstrap.min.css set `[hidden] { display: none !important; }` so we also need the `!important` here to be able to override the default hidden behavior on the sphinx rendered scikit-learn.org. See: https://github.com/scikit-learn/scikit-learn/issues/21755 */display: inline-block !important;position: relative;}#sk-container-id-1 div.sk-text-repr-fallback {display: none;}</style><div id=\"sk-container-id-1\" class=\"sk-top-container\"><div class=\"sk-text-repr-fallback\"><pre>KNeighborsClassifier(n_neighbors=10)</pre><b>In a Jupyter environment, please rerun this cell to show the HTML representation or trust the notebook. <br />On GitHub, the HTML representation is unable to render, please try loading this page with nbviewer.org.</b></div><div class=\"sk-container\" hidden><div class=\"sk-item\"><div class=\"sk-estimator sk-toggleable\"><input class=\"sk-toggleable__control sk-hidden--visually\" id=\"sk-estimator-id-1\" type=\"checkbox\" checked><label for=\"sk-estimator-id-1\" class=\"sk-toggleable__label sk-toggleable__label-arrow\">KNeighborsClassifier</label><div class=\"sk-toggleable__content\"><pre>KNeighborsClassifier(n_neighbors=10)</pre></div></div></div></div></div>"
      ],
      "text/plain": [
       "KNeighborsClassifier(n_neighbors=10)"
      ]
     },
     "execution_count": 39,
     "metadata": {},
     "output_type": "execute_result"
    }
   ],
   "source": [
    "from sklearn.metrics import classification_report\n",
    "from sklearn.neighbors import KNeighborsClassifier\n",
    "\n",
    "knn_model=KNeighborsClassifier(n_neighbors=10) \n",
    "knn_model.fit(X_train,Y_train)    \n",
    "     "
   ]
  },
  {
   "cell_type": "code",
   "execution_count": 40,
   "id": "a2e0562b",
   "metadata": {
    "execution": {
     "iopub.execute_input": "2024-07-05T06:16:17.244358Z",
     "iopub.status.busy": "2024-07-05T06:16:17.243964Z",
     "iopub.status.idle": "2024-07-05T06:16:18.620338Z",
     "shell.execute_reply": "2024-07-05T06:16:18.619201Z"
    },
    "papermill": {
     "duration": 1.395783,
     "end_time": "2024-07-05T06:16:18.623119",
     "exception": false,
     "start_time": "2024-07-05T06:16:17.227336",
     "status": "completed"
    },
    "tags": []
   },
   "outputs": [
    {
     "name": "stdout",
     "output_type": "stream",
     "text": [
      "[0 0 1 ... 1 1 1]\n"
     ]
    }
   ],
   "source": [
    "Y_pred=knn_model.predict(X_test)\n",
    "print(Y_pred)"
   ]
  },
  {
   "cell_type": "code",
   "execution_count": 41,
   "id": "b2555487",
   "metadata": {
    "execution": {
     "iopub.execute_input": "2024-07-05T06:16:18.656444Z",
     "iopub.status.busy": "2024-07-05T06:16:18.656055Z",
     "iopub.status.idle": "2024-07-05T06:16:18.684968Z",
     "shell.execute_reply": "2024-07-05T06:16:18.683910Z"
    },
    "papermill": {
     "duration": 0.047936,
     "end_time": "2024-07-05T06:16:18.687393",
     "exception": false,
     "start_time": "2024-07-05T06:16:18.639457",
     "status": "completed"
    },
    "tags": []
   },
   "outputs": [
    {
     "name": "stdout",
     "output_type": "stream",
     "text": [
      "              precision    recall  f1-score   support\n",
      "\n",
      "           0       0.77      0.82      0.79      4873\n",
      "           1       0.81      0.75      0.78      4874\n",
      "\n",
      "    accuracy                           0.79      9747\n",
      "   macro avg       0.79      0.79      0.79      9747\n",
      "weighted avg       0.79      0.79      0.79      9747\n",
      "\n"
     ]
    }
   ],
   "source": [
    "print(classification_report(Y_test,Y_pred))"
   ]
  },
  {
   "cell_type": "code",
   "execution_count": 42,
   "id": "e6c77c48",
   "metadata": {
    "execution": {
     "iopub.execute_input": "2024-07-05T06:16:18.721604Z",
     "iopub.status.busy": "2024-07-05T06:16:18.720697Z",
     "iopub.status.idle": "2024-07-05T06:16:18.731155Z",
     "shell.execute_reply": "2024-07-05T06:16:18.730187Z"
    },
    "papermill": {
     "duration": 0.030211,
     "end_time": "2024-07-05T06:16:18.733396",
     "exception": false,
     "start_time": "2024-07-05T06:16:18.703185",
     "status": "completed"
    },
    "tags": []
   },
   "outputs": [
    {
     "data": {
      "text/plain": [
       "array([[4001,  872],\n",
       "       [1211, 3663]])"
      ]
     },
     "execution_count": 42,
     "metadata": {},
     "output_type": "execute_result"
    }
   ],
   "source": [
    "confusion_matrix(Y_test,Y_pred)"
   ]
  },
  {
   "cell_type": "code",
   "execution_count": 43,
   "id": "cdbbd354",
   "metadata": {
    "execution": {
     "iopub.execute_input": "2024-07-05T06:16:18.766521Z",
     "iopub.status.busy": "2024-07-05T06:16:18.766155Z",
     "iopub.status.idle": "2024-07-05T06:16:18.989767Z",
     "shell.execute_reply": "2024-07-05T06:16:18.988780Z"
    },
    "papermill": {
     "duration": 0.242831,
     "end_time": "2024-07-05T06:16:18.992298",
     "exception": false,
     "start_time": "2024-07-05T06:16:18.749467",
     "status": "completed"
    },
    "tags": []
   },
   "outputs": [
    {
     "data": {
      "image/png": "[encoded data removed]",
      "text/plain": [
       "<Figure size 640x480 with 2 Axes>"
      ]
     },
     "metadata": {},
     "output_type": "display_data"
    }
   ],
   "source": [
    "cm=confusion_matrix(Y_test,Y_pred)\n",
    "\n",
    "sns.heatmap(cm, annot=True, fmt='d', cmap='magma', xticklabels=['Not Canceled', 'Canceled'], yticklabels=['Not Canceled', 'Canceled'])\n",
    "plt.xlabel('Predicted')\n",
    "plt.ylabel('Actual')\n",
    "plt.title('Confusion Matrix')\n",
    "plt.show()"
   ]
  }
 ],
 "metadata": {
  "kaggle": {
   "accelerator": "none",
   "dataSources": [
    {
     "datasetId": 4098886,
     "sourceId": 7109261,
     "sourceType": "datasetVersion"
    }
   ],
   "dockerImageVersionId": 30732,
   "isGpuEnabled": false,
   "isInternetEnabled": true,
   "language": "python",
   "sourceType": "notebook"
  },
  "kernelspec": {
   "display_name": "Python 3",
   "language": "python",
   "name": "python3"
  },
  "language_info": {
   "codemirror_mode": {
    "name": "ipython",
    "version": 3
   },
   "file_extension": ".py",
   "mimetype": "text/x-python",
   "name": "python",
   "nbconvert_exporter": "python",
   "pygments_lexer": "ipython3",
   "version": "3.10.13"
  },
  "papermill": {
   "default_parameters": {},
   "duration": 11.834603,
   "end_time": "2024-07-05T06:16:19.729319",
   "environment_variables": {},
   "exception": null,
   "input_path": "__notebook__.ipynb",
   "output_path": "__notebook__.ipynb",
   "parameters": {},
   "start_time": "2024-07-05T06:16:07.894716",
   "version": "2.5.0"
  }
 },
 "nbformat": 4,
 "nbformat_minor": 5
}
