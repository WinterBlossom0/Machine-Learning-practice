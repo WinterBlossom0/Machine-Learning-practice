{
 "cells": [
  {
   "cell_type": "code",
   "execution_count": 1,
   "id": "8ee86642",
   "metadata": {
    "_cell_guid": "b1076dfc-b9ad-4769-8c92-a6c4dae69d19",
    "_uuid": "8f2839f25d086af736a60e9eeb907d3b93b6e0e5",
    "execution": {
     "iopub.execute_input": "2024-07-21T12:47:04.420802Z",
     "iopub.status.busy": "2024-07-21T12:47:04.420406Z",
     "iopub.status.idle": "2024-07-21T12:47:06.553391Z",
     "shell.execute_reply": "2024-07-21T12:47:06.551829Z"
    },
    "papermill": {
     "duration": 2.147713,
     "end_time": "2024-07-21T12:47:06.555961",
     "exception": false,
     "start_time": "2024-07-21T12:47:04.408248",
     "status": "completed"
    },
    "tags": []
   },
   "outputs": [
    {
     "name": "stdout",
     "output_type": "stream",
     "text": [
      "Block executed\n"
     ]
    }
   ],
   "source": [
    "# This Python 3 environment comes with many helpful analytics libraries installed\n",
    "# It is defined by the kaggle/python Docker image: https://github.com/kaggle/docker-python\n",
    "# For example, here's several helpful packages to load\n",
    "\n",
    "import numpy as np # linear algebra\n",
    "import pandas as pd # data processing, CSV file I/O (e.g. pd.read_csv)\n",
    "import seaborn as sns\n",
    "import matplotlib.pyplot as plt\n",
    "print(\"Block executed\")"
   ]
  },
  {
   "cell_type": "code",
   "execution_count": 2,
   "id": "d244b6ce",
   "metadata": {
    "execution": {
     "iopub.execute_input": "2024-07-21T12:47:06.579116Z",
     "iopub.status.busy": "2024-07-21T12:47:06.578570Z",
     "iopub.status.idle": "2024-07-21T12:47:06.654656Z",
     "shell.execute_reply": "2024-07-21T12:47:06.653627Z"
    },
    "papermill": {
     "duration": 0.090792,
     "end_time": "2024-07-21T12:47:06.657438",
     "exception": false,
     "start_time": "2024-07-21T12:47:06.566646",
     "status": "completed"
    },
    "tags": []
   },
   "outputs": [
    {
     "data": {
      "text/plain": [
       "Index(['PassengerId', 'HomePlanet', 'CryoSleep', 'Cabin', 'Destination', 'Age',\n",
       "       'VIP', 'RoomService', 'FoodCourt', 'ShoppingMall', 'Spa', 'VRDeck',\n",
       "       'Name', 'Transported'],\n",
       "      dtype='object')"
      ]
     },
     "execution_count": 2,
     "metadata": {},
     "output_type": "execute_result"
    }
   ],
   "source": [
    "df = pd.read_csv(\"/kaggle/input/spaceship-titanic/train.csv\")\n",
    "df.columns"
   ]
  },
  {
   "cell_type": "code",
   "execution_count": 3,
   "id": "ce581828",
   "metadata": {
    "execution": {
     "iopub.execute_input": "2024-07-21T12:47:06.683856Z",
     "iopub.status.busy": "2024-07-21T12:47:06.683092Z",
     "iopub.status.idle": "2024-07-21T12:47:06.712242Z",
     "shell.execute_reply": "2024-07-21T12:47:06.711037Z"
    },
    "papermill": {
     "duration": 0.043178,
     "end_time": "2024-07-21T12:47:06.714654",
     "exception": false,
     "start_time": "2024-07-21T12:47:06.671476",
     "status": "completed"
    },
    "tags": []
   },
   "outputs": [
    {
     "data": {
      "text/html": [
       "<div>\n",
       "<style scoped>\n",
       "    .dataframe tbody tr th:only-of-type {\n",
       "        vertical-align: middle;\n",
       "    }\n",
       "\n",
       "    .dataframe tbody tr th {\n",
       "        vertical-align: top;\n",
       "    }\n",
       "\n",
       "    .dataframe thead th {\n",
       "        text-align: right;\n",
       "    }\n",
       "</style>\n",
       "<table border=\"1\" class=\"dataframe\">\n",
       "  <thead>\n",
       "    <tr style=\"text-align: right;\">\n",
       "      <th></th>\n",
       "      <th>PassengerId</th>\n",
       "      <th>HomePlanet</th>\n",
       "      <th>CryoSleep</th>\n",
       "      <th>Cabin</th>\n",
       "      <th>Destination</th>\n",
       "      <th>Age</th>\n",
       "      <th>VIP</th>\n",
       "      <th>RoomService</th>\n",
       "      <th>FoodCourt</th>\n",
       "      <th>ShoppingMall</th>\n",
       "      <th>Spa</th>\n",
       "      <th>VRDeck</th>\n",
       "      <th>Name</th>\n",
       "      <th>Transported</th>\n",
       "    </tr>\n",
       "  </thead>\n",
       "  <tbody>\n",
       "    <tr>\n",
       "      <th>0</th>\n",
       "      <td>0001_01</td>\n",
       "      <td>Europa</td>\n",
       "      <td>False</td>\n",
       "      <td>B/0/P</td>\n",
       "      <td>TRAPPIST-1e</td>\n",
       "      <td>39.0</td>\n",
       "      <td>False</td>\n",
       "      <td>0.0</td>\n",
       "      <td>0.0</td>\n",
       "      <td>0.0</td>\n",
       "      <td>0.0</td>\n",
       "      <td>0.0</td>\n",
       "      <td>Maham Ofracculy</td>\n",
       "      <td>False</td>\n",
       "    </tr>\n",
       "    <tr>\n",
       "      <th>1</th>\n",
       "      <td>0002_01</td>\n",
       "      <td>Earth</td>\n",
       "      <td>False</td>\n",
       "      <td>F/0/S</td>\n",
       "      <td>TRAPPIST-1e</td>\n",
       "      <td>24.0</td>\n",
       "      <td>False</td>\n",
       "      <td>109.0</td>\n",
       "      <td>9.0</td>\n",
       "      <td>25.0</td>\n",
       "      <td>549.0</td>\n",
       "      <td>44.0</td>\n",
       "      <td>Juanna Vines</td>\n",
       "      <td>True</td>\n",
       "    </tr>\n",
       "    <tr>\n",
       "      <th>2</th>\n",
       "      <td>0003_01</td>\n",
       "      <td>Europa</td>\n",
       "      <td>False</td>\n",
       "      <td>A/0/S</td>\n",
       "      <td>TRAPPIST-1e</td>\n",
       "      <td>58.0</td>\n",
       "      <td>True</td>\n",
       "      <td>43.0</td>\n",
       "      <td>3576.0</td>\n",
       "      <td>0.0</td>\n",
       "      <td>6715.0</td>\n",
       "      <td>49.0</td>\n",
       "      <td>Altark Susent</td>\n",
       "      <td>False</td>\n",
       "    </tr>\n",
       "    <tr>\n",
       "      <th>3</th>\n",
       "      <td>0003_02</td>\n",
       "      <td>Europa</td>\n",
       "      <td>False</td>\n",
       "      <td>A/0/S</td>\n",
       "      <td>TRAPPIST-1e</td>\n",
       "      <td>33.0</td>\n",
       "      <td>False</td>\n",
       "      <td>0.0</td>\n",
       "      <td>1283.0</td>\n",
       "      <td>371.0</td>\n",
       "      <td>3329.0</td>\n",
       "      <td>193.0</td>\n",
       "      <td>Solam Susent</td>\n",
       "      <td>False</td>\n",
       "    </tr>\n",
       "    <tr>\n",
       "      <th>4</th>\n",
       "      <td>0004_01</td>\n",
       "      <td>Earth</td>\n",
       "      <td>False</td>\n",
       "      <td>F/1/S</td>\n",
       "      <td>TRAPPIST-1e</td>\n",
       "      <td>16.0</td>\n",
       "      <td>False</td>\n",
       "      <td>303.0</td>\n",
       "      <td>70.0</td>\n",
       "      <td>151.0</td>\n",
       "      <td>565.0</td>\n",
       "      <td>2.0</td>\n",
       "      <td>Willy Santantines</td>\n",
       "      <td>True</td>\n",
       "    </tr>\n",
       "  </tbody>\n",
       "</table>\n",
       "</div>"
      ],
      "text/plain": [
       "  PassengerId HomePlanet CryoSleep  Cabin  Destination   Age    VIP  \\\n",
       "0     0001_01     Europa     False  B/0/P  TRAPPIST-1e  39.0  False   \n",
       "1     0002_01      Earth     False  F/0/S  TRAPPIST-1e  24.0  False   \n",
       "2     0003_01     Europa     False  A/0/S  TRAPPIST-1e  58.0   True   \n",
       "3     0003_02     Europa     False  A/0/S  TRAPPIST-1e  33.0  False   \n",
       "4     0004_01      Earth     False  F/1/S  TRAPPIST-1e  16.0  False   \n",
       "\n",
       "   RoomService  FoodCourt  ShoppingMall     Spa  VRDeck               Name  \\\n",
       "0          0.0        0.0           0.0     0.0     0.0    Maham Ofracculy   \n",
       "1        109.0        9.0          25.0   549.0    44.0       Juanna Vines   \n",
       "2         43.0     3576.0           0.0  6715.0    49.0      Altark Susent   \n",
       "3          0.0     1283.0         371.0  3329.0   193.0       Solam Susent   \n",
       "4        303.0       70.0         151.0   565.0     2.0  Willy Santantines   \n",
       "\n",
       "   Transported  \n",
       "0        False  \n",
       "1         True  \n",
       "2        False  \n",
       "3        False  \n",
       "4         True  "
      ]
     },
     "execution_count": 3,
     "metadata": {},
     "output_type": "execute_result"
    }
   ],
   "source": [
    "df.head()"
   ]
  },
  {
   "cell_type": "code",
   "execution_count": 4,
   "id": "d80eaa0e",
   "metadata": {
    "execution": {
     "iopub.execute_input": "2024-07-21T12:47:06.738309Z",
     "iopub.status.busy": "2024-07-21T12:47:06.737529Z",
     "iopub.status.idle": "2024-07-21T12:47:06.750450Z",
     "shell.execute_reply": "2024-07-21T12:47:06.749348Z"
    },
    "papermill": {
     "duration": 0.027667,
     "end_time": "2024-07-21T12:47:06.753052",
     "exception": false,
     "start_time": "2024-07-21T12:47:06.725385",
     "status": "completed"
    },
    "tags": []
   },
   "outputs": [],
   "source": [
    "df = df.drop(columns = [\"PassengerId\",\"Name\",\"Cabin\"])"
   ]
  },
  {
   "cell_type": "code",
   "execution_count": 5,
   "id": "6681ed3d",
   "metadata": {
    "execution": {
     "iopub.execute_input": "2024-07-21T12:47:06.777408Z",
     "iopub.status.busy": "2024-07-21T12:47:06.777023Z",
     "iopub.status.idle": "2024-07-21T12:47:06.783898Z",
     "shell.execute_reply": "2024-07-21T12:47:06.782811Z"
    },
    "papermill": {
     "duration": 0.021169,
     "end_time": "2024-07-21T12:47:06.786102",
     "exception": false,
     "start_time": "2024-07-21T12:47:06.764933",
     "status": "completed"
    },
    "tags": []
   },
   "outputs": [
    {
     "data": {
      "text/plain": [
       "(8693, 11)"
      ]
     },
     "execution_count": 5,
     "metadata": {},
     "output_type": "execute_result"
    }
   ],
   "source": [
    "df.shape"
   ]
  },
  {
   "cell_type": "code",
   "execution_count": 6,
   "id": "f90eacb1",
   "metadata": {
    "execution": {
     "iopub.execute_input": "2024-07-21T12:47:06.809259Z",
     "iopub.status.busy": "2024-07-21T12:47:06.808729Z",
     "iopub.status.idle": "2024-07-21T12:47:06.820345Z",
     "shell.execute_reply": "2024-07-21T12:47:06.819324Z"
    },
    "papermill": {
     "duration": 0.026182,
     "end_time": "2024-07-21T12:47:06.823023",
     "exception": false,
     "start_time": "2024-07-21T12:47:06.796841",
     "status": "completed"
    },
    "tags": []
   },
   "outputs": [
    {
     "data": {
      "text/plain": [
       "HomePlanet      201\n",
       "CryoSleep       217\n",
       "Destination     182\n",
       "Age             179\n",
       "VIP             203\n",
       "RoomService     181\n",
       "FoodCourt       183\n",
       "ShoppingMall    208\n",
       "Spa             183\n",
       "VRDeck          188\n",
       "Transported       0\n",
       "dtype: int64"
      ]
     },
     "execution_count": 6,
     "metadata": {},
     "output_type": "execute_result"
    }
   ],
   "source": [
    "df.isnull().sum()"
   ]
  },
  {
   "cell_type": "code",
   "execution_count": 7,
   "id": "96c0b27a",
   "metadata": {
    "execution": {
     "iopub.execute_input": "2024-07-21T12:47:06.853072Z",
     "iopub.status.busy": "2024-07-21T12:47:06.852579Z",
     "iopub.status.idle": "2024-07-21T12:47:07.104569Z",
     "shell.execute_reply": "2024-07-21T12:47:07.103386Z"
    },
    "papermill": {
     "duration": 0.267165,
     "end_time": "2024-07-21T12:47:07.106868",
     "exception": false,
     "start_time": "2024-07-21T12:47:06.839703",
     "status": "completed"
    },
    "tags": []
   },
   "outputs": [
    {
     "data": {
      "text/plain": [
       "<Axes: >"
      ]
     },
     "execution_count": 7,
     "metadata": {},
     "output_type": "execute_result"
    },
    {
     "data": {
      "image/png": "[encoded data removed]",
      "text/plain": [
       "<Figure size 640x480 with 1 Axes>"
      ]
     },
     "metadata": {},
     "output_type": "display_data"
    }
   ],
   "source": [
    "#cleaning ouliers\n",
    "sns.boxplot(df[\"RoomService\"])"
   ]
  },
  {
   "cell_type": "code",
   "execution_count": 8,
   "id": "e8ec9463",
   "metadata": {
    "execution": {
     "iopub.execute_input": "2024-07-21T12:47:07.131895Z",
     "iopub.status.busy": "2024-07-21T12:47:07.131506Z",
     "iopub.status.idle": "2024-07-21T12:47:07.145387Z",
     "shell.execute_reply": "2024-07-21T12:47:07.143795Z"
    },
    "papermill": {
     "duration": 0.029727,
     "end_time": "2024-07-21T12:47:07.148240",
     "exception": false,
     "start_time": "2024-07-21T12:47:07.118513",
     "status": "completed"
    },
    "tags": []
   },
   "outputs": [
    {
     "name": "stdout",
     "output_type": "stream",
     "text": [
      "Block executed\n"
     ]
    }
   ],
   "source": [
    "q1 = df['RoomService'].quantile(0.25)\n",
    "q3 = df['RoomService'].quantile(0.75)\n",
    "iqr = q3 - q1\n",
    "uw = q3 + iqr * 1.5\n",
    "lw = q1 - iqr * 1.5\n",
    "df.loc[df['RoomService'] < lw, \"RoomService\"] = lw \n",
    "df.loc[df['RoomService'] > uw, \"RoomService\"] = uw\n",
    "print(\"Block executed\")"
   ]
  },
  {
   "cell_type": "code",
   "execution_count": 9,
   "id": "35baf61f",
   "metadata": {
    "execution": {
     "iopub.execute_input": "2024-07-21T12:47:07.178306Z",
     "iopub.status.busy": "2024-07-21T12:47:07.177824Z",
     "iopub.status.idle": "2024-07-21T12:47:07.468833Z",
     "shell.execute_reply": "2024-07-21T12:47:07.466299Z"
    },
    "papermill": {
     "duration": 0.307332,
     "end_time": "2024-07-21T12:47:07.471221",
     "exception": false,
     "start_time": "2024-07-21T12:47:07.163889",
     "status": "completed"
    },
    "tags": []
   },
   "outputs": [
    {
     "data": {
      "text/plain": [
       "<Axes: >"
      ]
     },
     "execution_count": 9,
     "metadata": {},
     "output_type": "execute_result"
    },
    {
     "data": {
      "image/png": "[encoded data removed]",
      "text/plain": [
       "<Figure size 640x480 with 1 Axes>"
      ]
     },
     "metadata": {},
     "output_type": "display_data"
    }
   ],
   "source": [
    "sns.boxplot(df[\"FoodCourt\"])"
   ]
  },
  {
   "cell_type": "code",
   "execution_count": 10,
   "id": "782d6451",
   "metadata": {
    "execution": {
     "iopub.execute_input": "2024-07-21T12:47:07.496858Z",
     "iopub.status.busy": "2024-07-21T12:47:07.495986Z",
     "iopub.status.idle": "2024-07-21T12:47:07.506774Z",
     "shell.execute_reply": "2024-07-21T12:47:07.505758Z"
    },
    "papermill": {
     "duration": 0.025825,
     "end_time": "2024-07-21T12:47:07.508952",
     "exception": false,
     "start_time": "2024-07-21T12:47:07.483127",
     "status": "completed"
    },
    "tags": []
   },
   "outputs": [
    {
     "name": "stdout",
     "output_type": "stream",
     "text": [
      "Block executed\n"
     ]
    }
   ],
   "source": [
    "q1 = df['FoodCourt'].quantile(0.25)\n",
    "q3 = df['FoodCourt'].quantile(0.75)\n",
    "iqr = q3 - q1\n",
    "uw = q3 + iqr * 1.5\n",
    "lw = q1 - iqr * 1.5\n",
    "df.loc[df['FoodCourt'] < lw, \"FoodCourt\"] = lw \n",
    "df.loc[df['FoodCourt'] > uw, \"FoodCourt\"] = uw\n",
    "print(\"Block executed\")"
   ]
  },
  {
   "cell_type": "code",
   "execution_count": 11,
   "id": "cbda98b9",
   "metadata": {
    "execution": {
     "iopub.execute_input": "2024-07-21T12:47:07.534505Z",
     "iopub.status.busy": "2024-07-21T12:47:07.533654Z",
     "iopub.status.idle": "2024-07-21T12:47:07.727302Z",
     "shell.execute_reply": "2024-07-21T12:47:07.725980Z"
    },
    "papermill": {
     "duration": 0.208826,
     "end_time": "2024-07-21T12:47:07.729632",
     "exception": false,
     "start_time": "2024-07-21T12:47:07.520806",
     "status": "completed"
    },
    "tags": []
   },
   "outputs": [
    {
     "data": {
      "text/plain": [
       "<Axes: >"
      ]
     },
     "execution_count": 11,
     "metadata": {},
     "output_type": "execute_result"
    },
    {
     "data": {
      "image/png": "[encoded data removed]",
      "text/plain": [
       "<Figure size 640x480 with 1 Axes>"
      ]
     },
     "metadata": {},
     "output_type": "display_data"
    }
   ],
   "source": [
    "sns.boxplot(df[\"ShoppingMall\"])"
   ]
  },
  {
   "cell_type": "code",
   "execution_count": 12,
   "id": "3561e7cc",
   "metadata": {
    "execution": {
     "iopub.execute_input": "2024-07-21T12:47:07.756027Z",
     "iopub.status.busy": "2024-07-21T12:47:07.755245Z",
     "iopub.status.idle": "2024-07-21T12:47:07.766796Z",
     "shell.execute_reply": "2024-07-21T12:47:07.765530Z"
    },
    "papermill": {
     "duration": 0.027421,
     "end_time": "2024-07-21T12:47:07.769144",
     "exception": false,
     "start_time": "2024-07-21T12:47:07.741723",
     "status": "completed"
    },
    "tags": []
   },
   "outputs": [
    {
     "name": "stdout",
     "output_type": "stream",
     "text": [
      "Block executed\n"
     ]
    }
   ],
   "source": [
    "q1 = df['ShoppingMall'].quantile(0.25)\n",
    "q3 = df['ShoppingMall'].quantile(0.75)\n",
    "iqr = q3 - q1\n",
    "uw = q3 + iqr * 1.5\n",
    "lw = q1 - iqr * 1.5\n",
    "df.loc[df['ShoppingMall'] < lw, \"ShoppingMall\"] = lw \n",
    "df.loc[df['ShoppingMall'] > uw, \"ShoppingMall\"] = uw\n",
    "print(\"Block executed\")"
   ]
  },
  {
   "cell_type": "code",
   "execution_count": 13,
   "id": "915c6783",
   "metadata": {
    "execution": {
     "iopub.execute_input": "2024-07-21T12:47:07.795765Z",
     "iopub.status.busy": "2024-07-21T12:47:07.795398Z",
     "iopub.status.idle": "2024-07-21T12:47:07.986917Z",
     "shell.execute_reply": "2024-07-21T12:47:07.985835Z"
    },
    "papermill": {
     "duration": 0.207512,
     "end_time": "2024-07-21T12:47:07.989353",
     "exception": false,
     "start_time": "2024-07-21T12:47:07.781841",
     "status": "completed"
    },
    "tags": []
   },
   "outputs": [
    {
     "data": {
      "text/plain": [
       "<Axes: >"
      ]
     },
     "execution_count": 13,
     "metadata": {},
     "output_type": "execute_result"
    },
    {
     "data": {
      "image/png": "[encoded data removed]",
      "text/plain": [
       "<Figure size 640x480 with 1 Axes>"
      ]
     },
     "metadata": {},
     "output_type": "display_data"
    }
   ],
   "source": [
    "sns.boxplot(df[\"Spa\"])"
   ]
  },
  {
   "cell_type": "code",
   "execution_count": 14,
   "id": "e9a17f69",
   "metadata": {
    "execution": {
     "iopub.execute_input": "2024-07-21T12:47:08.016516Z",
     "iopub.status.busy": "2024-07-21T12:47:08.016147Z",
     "iopub.status.idle": "2024-07-21T12:47:08.027731Z",
     "shell.execute_reply": "2024-07-21T12:47:08.026587Z"
    },
    "papermill": {
     "duration": 0.027934,
     "end_time": "2024-07-21T12:47:08.029851",
     "exception": false,
     "start_time": "2024-07-21T12:47:08.001917",
     "status": "completed"
    },
    "tags": []
   },
   "outputs": [
    {
     "name": "stdout",
     "output_type": "stream",
     "text": [
      "Block executed\n"
     ]
    }
   ],
   "source": [
    "q1 = df['Spa'].quantile(0.25)\n",
    "q3 = df['Spa'].quantile(0.75)\n",
    "iqr = q3 - q1\n",
    "uw = q3 + iqr * 1.5\n",
    "lw = q1 - iqr * 1.5\n",
    "df.loc[df['Spa'] < lw, \"Spa\"] = lw \n",
    "df.loc[df['Spa'] > uw, \"Spa\"] = uw\n",
    "print(\"Block executed\")"
   ]
  },
  {
   "cell_type": "code",
   "execution_count": 15,
   "id": "2bc7fd57",
   "metadata": {
    "execution": {
     "iopub.execute_input": "2024-07-21T12:47:08.056844Z",
     "iopub.status.busy": "2024-07-21T12:47:08.056460Z",
     "iopub.status.idle": "2024-07-21T12:47:08.255069Z",
     "shell.execute_reply": "2024-07-21T12:47:08.254048Z"
    },
    "papermill": {
     "duration": 0.214951,
     "end_time": "2024-07-21T12:47:08.257434",
     "exception": false,
     "start_time": "2024-07-21T12:47:08.042483",
     "status": "completed"
    },
    "tags": []
   },
   "outputs": [
    {
     "data": {
      "text/plain": [
       "<Axes: >"
      ]
     },
     "execution_count": 15,
     "metadata": {},
     "output_type": "execute_result"
    },
    {
     "data": {
      "image/png": "[encoded data removed]",
      "text/plain": [
       "<Figure size 640x480 with 1 Axes>"
      ]
     },
     "metadata": {},
     "output_type": "display_data"
    }
   ],
   "source": [
    "sns.boxplot(df[\"VRDeck\"])"
   ]
  },
  {
   "cell_type": "code",
   "execution_count": 16,
   "id": "b69808f5",
   "metadata": {
    "execution": {
     "iopub.execute_input": "2024-07-21T12:47:08.286059Z",
     "iopub.status.busy": "2024-07-21T12:47:08.285137Z",
     "iopub.status.idle": "2024-07-21T12:47:08.296281Z",
     "shell.execute_reply": "2024-07-21T12:47:08.295078Z"
    },
    "papermill": {
     "duration": 0.027862,
     "end_time": "2024-07-21T12:47:08.298483",
     "exception": false,
     "start_time": "2024-07-21T12:47:08.270621",
     "status": "completed"
    },
    "tags": []
   },
   "outputs": [
    {
     "name": "stdout",
     "output_type": "stream",
     "text": [
      "Block executed\n"
     ]
    }
   ],
   "source": [
    "q1 = df['VRDeck'].quantile(0.25)\n",
    "q3 = df['VRDeck'].quantile(0.75)\n",
    "iqr = q3 - q1\n",
    "uw = q3 + iqr * 1.5\n",
    "lw = q1 - iqr * 1.5\n",
    "df.loc[df['VRDeck'] < lw, \"VRDeck\"] = lw \n",
    "df.loc[df['VRDeck'] > uw, \"VRDeck\"] = uw\n",
    "print(\"Block executed\")"
   ]
  },
  {
   "cell_type": "code",
   "execution_count": 17,
   "id": "432518a5",
   "metadata": {
    "execution": {
     "iopub.execute_input": "2024-07-21T12:47:08.327054Z",
     "iopub.status.busy": "2024-07-21T12:47:08.326089Z",
     "iopub.status.idle": "2024-07-21T12:47:08.331648Z",
     "shell.execute_reply": "2024-07-21T12:47:08.330534Z"
    },
    "papermill": {
     "duration": 0.022515,
     "end_time": "2024-07-21T12:47:08.334129",
     "exception": false,
     "start_time": "2024-07-21T12:47:08.311614",
     "status": "completed"
    },
    "tags": []
   },
   "outputs": [
    {
     "name": "stdout",
     "output_type": "stream",
     "text": [
      "Block executed\n"
     ]
    }
   ],
   "source": [
    "import warnings\n",
    "warnings.filterwarnings('ignore')\n",
    "print(\"Block executed\")"
   ]
  },
  {
   "cell_type": "code",
   "execution_count": 18,
   "id": "d3ce4031",
   "metadata": {
    "execution": {
     "iopub.execute_input": "2024-07-21T12:47:08.363014Z",
     "iopub.status.busy": "2024-07-21T12:47:08.361951Z",
     "iopub.status.idle": "2024-07-21T12:47:08.375219Z",
     "shell.execute_reply": "2024-07-21T12:47:08.373775Z"
    },
    "papermill": {
     "duration": 0.030054,
     "end_time": "2024-07-21T12:47:08.377529",
     "exception": false,
     "start_time": "2024-07-21T12:47:08.347475",
     "status": "completed"
    },
    "tags": []
   },
   "outputs": [
    {
     "name": "stdout",
     "output_type": "stream",
     "text": [
      "Block executed\n"
     ]
    }
   ],
   "source": [
    "#filling NaN\n",
    "df[\"Age\"].fillna(df[\"Age\"].median(), inplace = True)   \n",
    "df[\"RoomService\"].fillna(df[\"RoomService\"].median(), inplace = True)\n",
    "df[\"FoodCourt\"].fillna(df[\"FoodCourt\"].median(), inplace = True)\n",
    "df[\"ShoppingMall\"].fillna(df[\"ShoppingMall\"].median(), inplace = True)\n",
    "df[\"Spa\"].fillna(df[\"Spa\"].median(), inplace = True)\n",
    "df[\"VRDeck\"].fillna(df[\"VRDeck\"].median(), inplace = True)\n",
    "print(\"Block executed\")"
   ]
  },
  {
   "cell_type": "code",
   "execution_count": 19,
   "id": "93dbbe92",
   "metadata": {
    "execution": {
     "iopub.execute_input": "2024-07-21T12:47:08.405496Z",
     "iopub.status.busy": "2024-07-21T12:47:08.405112Z",
     "iopub.status.idle": "2024-07-21T12:47:08.600209Z",
     "shell.execute_reply": "2024-07-21T12:47:08.598930Z"
    },
    "papermill": {
     "duration": 0.212038,
     "end_time": "2024-07-21T12:47:08.602677",
     "exception": false,
     "start_time": "2024-07-21T12:47:08.390639",
     "status": "completed"
    },
    "tags": []
   },
   "outputs": [
    {
     "data": {
      "text/html": [
       "<div>\n",
       "<style scoped>\n",
       "    .dataframe tbody tr th:only-of-type {\n",
       "        vertical-align: middle;\n",
       "    }\n",
       "\n",
       "    .dataframe tbody tr th {\n",
       "        vertical-align: top;\n",
       "    }\n",
       "\n",
       "    .dataframe thead th {\n",
       "        text-align: right;\n",
       "    }\n",
       "</style>\n",
       "<table border=\"1\" class=\"dataframe\">\n",
       "  <thead>\n",
       "    <tr style=\"text-align: right;\">\n",
       "      <th></th>\n",
       "      <th>HomePlanet_Earth</th>\n",
       "      <th>HomePlanet_Europa</th>\n",
       "      <th>HomePlanet_Mars</th>\n",
       "      <th>HomePlanet_nan</th>\n",
       "      <th>CryoSleep_False</th>\n",
       "      <th>CryoSleep_True</th>\n",
       "      <th>CryoSleep_nan</th>\n",
       "      <th>Destination_55 Cancri e</th>\n",
       "      <th>Destination_PSO J318.5-22</th>\n",
       "      <th>Destination_TRAPPIST-1e</th>\n",
       "      <th>Destination_nan</th>\n",
       "      <th>VIP_False</th>\n",
       "      <th>VIP_True</th>\n",
       "      <th>VIP_nan</th>\n",
       "      <th>RoomService</th>\n",
       "      <th>FoodCourt</th>\n",
       "      <th>ShoppingMall</th>\n",
       "      <th>Spa</th>\n",
       "      <th>VRDeck</th>\n",
       "    </tr>\n",
       "  </thead>\n",
       "  <tbody>\n",
       "    <tr>\n",
       "      <th>0</th>\n",
       "      <td>0</td>\n",
       "      <td>1</td>\n",
       "      <td>0</td>\n",
       "      <td>0</td>\n",
       "      <td>1</td>\n",
       "      <td>0</td>\n",
       "      <td>0</td>\n",
       "      <td>0</td>\n",
       "      <td>0</td>\n",
       "      <td>1</td>\n",
       "      <td>0</td>\n",
       "      <td>1</td>\n",
       "      <td>0</td>\n",
       "      <td>0</td>\n",
       "      <td>-0.593995</td>\n",
       "      <td>-0.592725</td>\n",
       "      <td>-0.591986</td>\n",
       "      <td>-0.600535</td>\n",
       "      <td>-0.594079</td>\n",
       "    </tr>\n",
       "    <tr>\n",
       "      <th>1</th>\n",
       "      <td>1</td>\n",
       "      <td>0</td>\n",
       "      <td>0</td>\n",
       "      <td>0</td>\n",
       "      <td>1</td>\n",
       "      <td>0</td>\n",
       "      <td>0</td>\n",
       "      <td>0</td>\n",
       "      <td>0</td>\n",
       "      <td>1</td>\n",
       "      <td>0</td>\n",
       "      <td>1</td>\n",
       "      <td>0</td>\n",
       "      <td>0</td>\n",
       "      <td>1.650211</td>\n",
       "      <td>-0.477613</td>\n",
       "      <td>0.309873</td>\n",
       "      <td>1.844078</td>\n",
       "      <td>0.339229</td>\n",
       "    </tr>\n",
       "    <tr>\n",
       "      <th>2</th>\n",
       "      <td>0</td>\n",
       "      <td>1</td>\n",
       "      <td>0</td>\n",
       "      <td>0</td>\n",
       "      <td>1</td>\n",
       "      <td>0</td>\n",
       "      <td>0</td>\n",
       "      <td>0</td>\n",
       "      <td>0</td>\n",
       "      <td>1</td>\n",
       "      <td>0</td>\n",
       "      <td>0</td>\n",
       "      <td>1</td>\n",
       "      <td>0</td>\n",
       "      <td>0.291334</td>\n",
       "      <td>1.837432</td>\n",
       "      <td>-0.591986</td>\n",
       "      <td>1.844078</td>\n",
       "      <td>0.445286</td>\n",
       "    </tr>\n",
       "    <tr>\n",
       "      <th>3</th>\n",
       "      <td>0</td>\n",
       "      <td>1</td>\n",
       "      <td>0</td>\n",
       "      <td>0</td>\n",
       "      <td>1</td>\n",
       "      <td>0</td>\n",
       "      <td>0</td>\n",
       "      <td>0</td>\n",
       "      <td>0</td>\n",
       "      <td>1</td>\n",
       "      <td>0</td>\n",
       "      <td>1</td>\n",
       "      <td>0</td>\n",
       "      <td>0</td>\n",
       "      <td>-0.593995</td>\n",
       "      <td>1.837432</td>\n",
       "      <td>1.843034</td>\n",
       "      <td>1.844078</td>\n",
       "      <td>1.845248</td>\n",
       "    </tr>\n",
       "    <tr>\n",
       "      <th>4</th>\n",
       "      <td>1</td>\n",
       "      <td>0</td>\n",
       "      <td>0</td>\n",
       "      <td>0</td>\n",
       "      <td>1</td>\n",
       "      <td>0</td>\n",
       "      <td>0</td>\n",
       "      <td>0</td>\n",
       "      <td>0</td>\n",
       "      <td>1</td>\n",
       "      <td>0</td>\n",
       "      <td>1</td>\n",
       "      <td>0</td>\n",
       "      <td>0</td>\n",
       "      <td>1.825218</td>\n",
       "      <td>0.302596</td>\n",
       "      <td>1.843034</td>\n",
       "      <td>1.844078</td>\n",
       "      <td>-0.551656</td>\n",
       "    </tr>\n",
       "  </tbody>\n",
       "</table>\n",
       "</div>"
      ],
      "text/plain": [
       "   HomePlanet_Earth  HomePlanet_Europa  HomePlanet_Mars  HomePlanet_nan  \\\n",
       "0                 0                  1                0               0   \n",
       "1                 1                  0                0               0   \n",
       "2                 0                  1                0               0   \n",
       "3                 0                  1                0               0   \n",
       "4                 1                  0                0               0   \n",
       "\n",
       "   CryoSleep_False  CryoSleep_True  CryoSleep_nan  Destination_55 Cancri e  \\\n",
       "0                1               0              0                        0   \n",
       "1                1               0              0                        0   \n",
       "2                1               0              0                        0   \n",
       "3                1               0              0                        0   \n",
       "4                1               0              0                        0   \n",
       "\n",
       "   Destination_PSO J318.5-22  Destination_TRAPPIST-1e  Destination_nan  \\\n",
       "0                          0                        1                0   \n",
       "1                          0                        1                0   \n",
       "2                          0                        1                0   \n",
       "3                          0                        1                0   \n",
       "4                          0                        1                0   \n",
       "\n",
       "   VIP_False  VIP_True  VIP_nan  RoomService  FoodCourt  ShoppingMall  \\\n",
       "0          1         0        0    -0.593995  -0.592725     -0.591986   \n",
       "1          1         0        0     1.650211  -0.477613      0.309873   \n",
       "2          0         1        0     0.291334   1.837432     -0.591986   \n",
       "3          1         0        0    -0.593995   1.837432      1.843034   \n",
       "4          1         0        0     1.825218   0.302596      1.843034   \n",
       "\n",
       "        Spa    VRDeck  \n",
       "0 -0.600535 -0.594079  \n",
       "1  1.844078  0.339229  \n",
       "2  1.844078  0.445286  \n",
       "3  1.844078  1.845248  \n",
       "4  1.844078 -0.551656  "
      ]
     },
     "execution_count": 19,
     "metadata": {},
     "output_type": "execute_result"
    }
   ],
   "source": [
    "from sklearn.preprocessing import OneHotEncoder,StandardScaler\n",
    "\n",
    "enc = OneHotEncoder(categories = 'auto',\n",
    "                    drop = 'if_binary',\n",
    "                    sparse_output=False,\n",
    "                    dtype = 'int64',\n",
    "                    handle_unknown = 'infrequent_if_exist',\n",
    "                    min_frequency = None,\n",
    "                    max_categories = None).set_output(transform=\"pandas\")\n",
    "scaler = StandardScaler().set_output(transform=\"pandas\")\n",
    "cat_cols = df[['HomePlanet', 'CryoSleep','Destination','VIP']]\n",
    "num_cols = df[['RoomService', 'FoodCourt', 'ShoppingMall', 'Spa', 'VRDeck']]\n",
    "df_enc = enc.fit_transform(cat_cols)\n",
    "df_sca = scaler.fit_transform(num_cols)\n",
    "df_pro = pd.concat([df_enc , df_sca.set_axis(df_enc.index)] , axis = 1)\n",
    "df_pro.head()"
   ]
  },
  {
   "cell_type": "code",
   "execution_count": 20,
   "id": "38c499c4",
   "metadata": {
    "execution": {
     "iopub.execute_input": "2024-07-21T12:47:08.632105Z",
     "iopub.status.busy": "2024-07-21T12:47:08.631705Z",
     "iopub.status.idle": "2024-07-21T12:47:08.638864Z",
     "shell.execute_reply": "2024-07-21T12:47:08.637669Z"
    },
    "papermill": {
     "duration": 0.024797,
     "end_time": "2024-07-21T12:47:08.641138",
     "exception": false,
     "start_time": "2024-07-21T12:47:08.616341",
     "status": "completed"
    },
    "tags": []
   },
   "outputs": [
    {
     "name": "stdout",
     "output_type": "stream",
     "text": [
      "Block executed\n"
     ]
    }
   ],
   "source": [
    "X = df_pro[df_pro.columns]\n",
    "y = df['Transported']\n",
    "print(\"Block executed\")"
   ]
  },
  {
   "cell_type": "code",
   "execution_count": 21,
   "id": "042cc23c",
   "metadata": {
    "execution": {
     "iopub.execute_input": "2024-07-21T12:47:08.670389Z",
     "iopub.status.busy": "2024-07-21T12:47:08.669990Z",
     "iopub.status.idle": "2024-07-21T12:47:12.682875Z",
     "shell.execute_reply": "2024-07-21T12:47:12.681637Z"
    },
    "papermill": {
     "duration": 4.030057,
     "end_time": "2024-07-21T12:47:12.685177",
     "exception": false,
     "start_time": "2024-07-21T12:47:08.655120",
     "status": "completed"
    },
    "tags": []
   },
   "outputs": [
    {
     "name": "stdout",
     "output_type": "stream",
     "text": [
      "Block executed\n"
     ]
    }
   ],
   "source": [
    "#synthetic oversampling\n",
    "from imblearn.over_sampling import SVMSMOTE\n",
    "sm = SVMSMOTE(random_state=1 ,\n",
    "              k_neighbors = 93,\n",
    "              n_jobs = -1)\n",
    "X_res, y_res = sm.fit_resample(X, y)\n",
    "print(\"Block executed\")"
   ]
  },
  {
   "cell_type": "code",
   "execution_count": 22,
   "id": "66cb7e34",
   "metadata": {
    "execution": {
     "iopub.execute_input": "2024-07-21T12:47:12.714361Z",
     "iopub.status.busy": "2024-07-21T12:47:12.713507Z",
     "iopub.status.idle": "2024-07-21T12:47:12.733447Z",
     "shell.execute_reply": "2024-07-21T12:47:12.732354Z"
    },
    "papermill": {
     "duration": 0.037157,
     "end_time": "2024-07-21T12:47:12.736034",
     "exception": false,
     "start_time": "2024-07-21T12:47:12.698877",
     "status": "completed"
    },
    "tags": []
   },
   "outputs": [],
   "source": [
    "from sklearn.svm import LinearSVC\n",
    "from sklearn.feature_selection import SelectFromModel"
   ]
  },
  {
   "cell_type": "code",
   "execution_count": 23,
   "id": "626a76e1",
   "metadata": {
    "execution": {
     "iopub.execute_input": "2024-07-21T12:47:12.822495Z",
     "iopub.status.busy": "2024-07-21T12:47:12.822107Z",
     "iopub.status.idle": "2024-07-21T12:47:12.866173Z",
     "shell.execute_reply": "2024-07-21T12:47:12.865141Z"
    },
    "papermill": {
     "duration": 0.118635,
     "end_time": "2024-07-21T12:47:12.868467",
     "exception": false,
     "start_time": "2024-07-21T12:47:12.749832",
     "status": "completed"
    },
    "tags": []
   },
   "outputs": [
    {
     "name": "stdout",
     "output_type": "stream",
     "text": [
      "[ True  True False False  True  True False False False False False False\n",
      " False False  True False False  True  True]\n"
     ]
    },
    {
     "data": {
      "text/html": [
       "<div>\n",
       "<style scoped>\n",
       "    .dataframe tbody tr th:only-of-type {\n",
       "        vertical-align: middle;\n",
       "    }\n",
       "\n",
       "    .dataframe tbody tr th {\n",
       "        vertical-align: top;\n",
       "    }\n",
       "\n",
       "    .dataframe thead th {\n",
       "        text-align: right;\n",
       "    }\n",
       "</style>\n",
       "<table border=\"1\" class=\"dataframe\">\n",
       "  <thead>\n",
       "    <tr style=\"text-align: right;\">\n",
       "      <th></th>\n",
       "      <th>0</th>\n",
       "      <th>1</th>\n",
       "      <th>2</th>\n",
       "      <th>3</th>\n",
       "      <th>4</th>\n",
       "      <th>5</th>\n",
       "      <th>6</th>\n",
       "    </tr>\n",
       "  </thead>\n",
       "  <tbody>\n",
       "    <tr>\n",
       "      <th>0</th>\n",
       "      <td>0.0</td>\n",
       "      <td>1.0</td>\n",
       "      <td>1.0</td>\n",
       "      <td>0.0</td>\n",
       "      <td>-0.593995</td>\n",
       "      <td>-0.600535</td>\n",
       "      <td>-0.594079</td>\n",
       "    </tr>\n",
       "    <tr>\n",
       "      <th>1</th>\n",
       "      <td>1.0</td>\n",
       "      <td>0.0</td>\n",
       "      <td>1.0</td>\n",
       "      <td>0.0</td>\n",
       "      <td>1.650211</td>\n",
       "      <td>1.844078</td>\n",
       "      <td>0.339229</td>\n",
       "    </tr>\n",
       "    <tr>\n",
       "      <th>2</th>\n",
       "      <td>0.0</td>\n",
       "      <td>1.0</td>\n",
       "      <td>1.0</td>\n",
       "      <td>0.0</td>\n",
       "      <td>0.291334</td>\n",
       "      <td>1.844078</td>\n",
       "      <td>0.445286</td>\n",
       "    </tr>\n",
       "    <tr>\n",
       "      <th>3</th>\n",
       "      <td>0.0</td>\n",
       "      <td>1.0</td>\n",
       "      <td>1.0</td>\n",
       "      <td>0.0</td>\n",
       "      <td>-0.593995</td>\n",
       "      <td>1.844078</td>\n",
       "      <td>1.845248</td>\n",
       "    </tr>\n",
       "    <tr>\n",
       "      <th>4</th>\n",
       "      <td>1.0</td>\n",
       "      <td>0.0</td>\n",
       "      <td>1.0</td>\n",
       "      <td>0.0</td>\n",
       "      <td>1.825218</td>\n",
       "      <td>1.844078</td>\n",
       "      <td>-0.551656</td>\n",
       "    </tr>\n",
       "    <tr>\n",
       "      <th>...</th>\n",
       "      <td>...</td>\n",
       "      <td>...</td>\n",
       "      <td>...</td>\n",
       "      <td>...</td>\n",
       "      <td>...</td>\n",
       "      <td>...</td>\n",
       "      <td>...</td>\n",
       "    </tr>\n",
       "    <tr>\n",
       "      <th>8751</th>\n",
       "      <td>1.0</td>\n",
       "      <td>0.0</td>\n",
       "      <td>0.0</td>\n",
       "      <td>1.0</td>\n",
       "      <td>-0.593995</td>\n",
       "      <td>-0.600535</td>\n",
       "      <td>-0.594079</td>\n",
       "    </tr>\n",
       "    <tr>\n",
       "      <th>8752</th>\n",
       "      <td>1.0</td>\n",
       "      <td>0.0</td>\n",
       "      <td>0.0</td>\n",
       "      <td>1.0</td>\n",
       "      <td>-0.593995</td>\n",
       "      <td>-0.600535</td>\n",
       "      <td>-0.594079</td>\n",
       "    </tr>\n",
       "    <tr>\n",
       "      <th>8753</th>\n",
       "      <td>1.0</td>\n",
       "      <td>0.0</td>\n",
       "      <td>1.0</td>\n",
       "      <td>0.0</td>\n",
       "      <td>1.825218</td>\n",
       "      <td>1.844078</td>\n",
       "      <td>-0.456572</td>\n",
       "    </tr>\n",
       "    <tr>\n",
       "      <th>8754</th>\n",
       "      <td>1.0</td>\n",
       "      <td>0.0</td>\n",
       "      <td>0.0</td>\n",
       "      <td>1.0</td>\n",
       "      <td>-0.593995</td>\n",
       "      <td>-0.600535</td>\n",
       "      <td>-0.594079</td>\n",
       "    </tr>\n",
       "    <tr>\n",
       "      <th>8755</th>\n",
       "      <td>1.0</td>\n",
       "      <td>0.0</td>\n",
       "      <td>1.0</td>\n",
       "      <td>0.0</td>\n",
       "      <td>1.825218</td>\n",
       "      <td>-0.600535</td>\n",
       "      <td>-0.542922</td>\n",
       "    </tr>\n",
       "  </tbody>\n",
       "</table>\n",
       "<p>8756 rows × 7 columns</p>\n",
       "</div>"
      ],
      "text/plain": [
       "        0    1    2    3         4         5         6\n",
       "0     0.0  1.0  1.0  0.0 -0.593995 -0.600535 -0.594079\n",
       "1     1.0  0.0  1.0  0.0  1.650211  1.844078  0.339229\n",
       "2     0.0  1.0  1.0  0.0  0.291334  1.844078  0.445286\n",
       "3     0.0  1.0  1.0  0.0 -0.593995  1.844078  1.845248\n",
       "4     1.0  0.0  1.0  0.0  1.825218  1.844078 -0.551656\n",
       "...   ...  ...  ...  ...       ...       ...       ...\n",
       "8751  1.0  0.0  0.0  1.0 -0.593995 -0.600535 -0.594079\n",
       "8752  1.0  0.0  0.0  1.0 -0.593995 -0.600535 -0.594079\n",
       "8753  1.0  0.0  1.0  0.0  1.825218  1.844078 -0.456572\n",
       "8754  1.0  0.0  0.0  1.0 -0.593995 -0.600535 -0.594079\n",
       "8755  1.0  0.0  1.0  0.0  1.825218 -0.600535 -0.542922\n",
       "\n",
       "[8756 rows x 7 columns]"
      ]
     },
     "execution_count": 23,
     "metadata": {},
     "output_type": "execute_result"
    }
   ],
   "source": [
    "lsvc = LinearSVC(C=0.001, penalty=\"l1\", dual=False,random_state=1).fit(X_res, y_res)\n",
    "model = SelectFromModel(lsvc, prefit=True)\n",
    "X_new = model.fit_transform(X_res)\n",
    "print(model.get_support())\n",
    "list1 = model.get_support()\n",
    "pd.DataFrame(X_new)"
   ]
  },
  {
   "cell_type": "code",
   "execution_count": 24,
   "id": "8337aaba",
   "metadata": {
    "execution": {
     "iopub.execute_input": "2024-07-21T12:47:12.899112Z",
     "iopub.status.busy": "2024-07-21T12:47:12.898707Z",
     "iopub.status.idle": "2024-07-21T12:47:12.914301Z",
     "shell.execute_reply": "2024-07-21T12:47:12.913204Z"
    },
    "papermill": {
     "duration": 0.033893,
     "end_time": "2024-07-21T12:47:12.916705",
     "exception": false,
     "start_time": "2024-07-21T12:47:12.882812",
     "status": "completed"
    },
    "tags": []
   },
   "outputs": [
    {
     "data": {
      "text/html": [
       "<div>\n",
       "<style scoped>\n",
       "    .dataframe tbody tr th:only-of-type {\n",
       "        vertical-align: middle;\n",
       "    }\n",
       "\n",
       "    .dataframe tbody tr th {\n",
       "        vertical-align: top;\n",
       "    }\n",
       "\n",
       "    .dataframe thead th {\n",
       "        text-align: right;\n",
       "    }\n",
       "</style>\n",
       "<table border=\"1\" class=\"dataframe\">\n",
       "  <thead>\n",
       "    <tr style=\"text-align: right;\">\n",
       "      <th></th>\n",
       "      <th>0</th>\n",
       "      <th>1</th>\n",
       "      <th>2</th>\n",
       "      <th>3</th>\n",
       "      <th>4</th>\n",
       "      <th>5</th>\n",
       "      <th>6</th>\n",
       "    </tr>\n",
       "  </thead>\n",
       "  <tbody>\n",
       "    <tr>\n",
       "      <th>0</th>\n",
       "      <td>0.0</td>\n",
       "      <td>1.0</td>\n",
       "      <td>1.0</td>\n",
       "      <td>0.0</td>\n",
       "      <td>-0.593995</td>\n",
       "      <td>-0.600535</td>\n",
       "      <td>-0.594079</td>\n",
       "    </tr>\n",
       "    <tr>\n",
       "      <th>1</th>\n",
       "      <td>1.0</td>\n",
       "      <td>0.0</td>\n",
       "      <td>1.0</td>\n",
       "      <td>0.0</td>\n",
       "      <td>1.650211</td>\n",
       "      <td>1.844078</td>\n",
       "      <td>0.339229</td>\n",
       "    </tr>\n",
       "    <tr>\n",
       "      <th>2</th>\n",
       "      <td>0.0</td>\n",
       "      <td>1.0</td>\n",
       "      <td>1.0</td>\n",
       "      <td>0.0</td>\n",
       "      <td>0.291334</td>\n",
       "      <td>1.844078</td>\n",
       "      <td>0.445286</td>\n",
       "    </tr>\n",
       "    <tr>\n",
       "      <th>3</th>\n",
       "      <td>0.0</td>\n",
       "      <td>1.0</td>\n",
       "      <td>1.0</td>\n",
       "      <td>0.0</td>\n",
       "      <td>-0.593995</td>\n",
       "      <td>1.844078</td>\n",
       "      <td>1.845248</td>\n",
       "    </tr>\n",
       "    <tr>\n",
       "      <th>4</th>\n",
       "      <td>1.0</td>\n",
       "      <td>0.0</td>\n",
       "      <td>1.0</td>\n",
       "      <td>0.0</td>\n",
       "      <td>1.825218</td>\n",
       "      <td>1.844078</td>\n",
       "      <td>-0.551656</td>\n",
       "    </tr>\n",
       "  </tbody>\n",
       "</table>\n",
       "</div>"
      ],
      "text/plain": [
       "     0    1    2    3         4         5         6\n",
       "0  0.0  1.0  1.0  0.0 -0.593995 -0.600535 -0.594079\n",
       "1  1.0  0.0  1.0  0.0  1.650211  1.844078  0.339229\n",
       "2  0.0  1.0  1.0  0.0  0.291334  1.844078  0.445286\n",
       "3  0.0  1.0  1.0  0.0 -0.593995  1.844078  1.845248\n",
       "4  1.0  0.0  1.0  0.0  1.825218  1.844078 -0.551656"
      ]
     },
     "execution_count": 24,
     "metadata": {},
     "output_type": "execute_result"
    }
   ],
   "source": [
    "pd.DataFrame(X_new).head()"
   ]
  },
  {
   "cell_type": "code",
   "execution_count": 25,
   "id": "ae8ace13",
   "metadata": {
    "execution": {
     "iopub.execute_input": "2024-07-21T12:47:12.947354Z",
     "iopub.status.busy": "2024-07-21T12:47:12.946921Z",
     "iopub.status.idle": "2024-07-21T12:47:12.955036Z",
     "shell.execute_reply": "2024-07-21T12:47:12.953887Z"
    },
    "papermill": {
     "duration": 0.026076,
     "end_time": "2024-07-21T12:47:12.957311",
     "exception": false,
     "start_time": "2024-07-21T12:47:12.931235",
     "status": "completed"
    },
    "tags": []
   },
   "outputs": [
    {
     "name": "stdout",
     "output_type": "stream",
     "text": [
      "Block executed\n"
     ]
    }
   ],
   "source": [
    "from sklearn.model_selection import train_test_split,RandomizedSearchCV\n",
    "train_X, test_X, train_y, test_y = train_test_split(X_new, y_res, test_size = 0.2 )\n",
    "print(\"Block executed\")"
   ]
  },
  {
   "cell_type": "code",
   "execution_count": 26,
   "id": "fef54fc3",
   "metadata": {
    "execution": {
     "iopub.execute_input": "2024-07-21T12:47:12.987973Z",
     "iopub.status.busy": "2024-07-21T12:47:12.987625Z",
     "iopub.status.idle": "2024-07-21T12:47:12.993803Z",
     "shell.execute_reply": "2024-07-21T12:47:12.992706Z"
    },
    "papermill": {
     "duration": 0.024173,
     "end_time": "2024-07-21T12:47:12.995956",
     "exception": false,
     "start_time": "2024-07-21T12:47:12.971783",
     "status": "completed"
    },
    "tags": []
   },
   "outputs": [],
   "source": [
    "n_estimators = [50,200,500,1000]\n",
    "max_depth = [1,20,35,50,100]\n",
    "learning_rate = [0.1,0.01,0.001]\n",
    "reg_alpha = [1,2,4]\n",
    "reg_lambda = [1,3,5]\n",
    "colsample_bytree = [0.5,0.8,1]\n",
    "min_child_weight = [0,1,5,7,10]\n",
    "gamma = [1,5,10,12,14]\n",
    "eval_metric = ['auc','mae','rmse']"
   ]
  },
  {
   "cell_type": "code",
   "execution_count": 27,
   "id": "71083e9e",
   "metadata": {
    "execution": {
     "iopub.execute_input": "2024-07-21T12:47:13.026900Z",
     "iopub.status.busy": "2024-07-21T12:47:13.025984Z",
     "iopub.status.idle": "2024-07-21T12:47:13.031499Z",
     "shell.execute_reply": "2024-07-21T12:47:13.030429Z"
    },
    "papermill": {
     "duration": 0.023245,
     "end_time": "2024-07-21T12:47:13.033703",
     "exception": false,
     "start_time": "2024-07-21T12:47:13.010458",
     "status": "completed"
    },
    "tags": []
   },
   "outputs": [],
   "source": [
    "random_grid = {'n_estimators': n_estimators,\n",
    "               'max_depth': max_depth, \n",
    "               'learning_rate':learning_rate,\n",
    "               'reg_alpha':reg_alpha,\n",
    "               'reg_lambda':reg_lambda,\n",
    "               'colsample_bytree':colsample_bytree,\n",
    "               'min_child_weight':min_child_weight,\n",
    "               'gamma':gamma,\n",
    "               'eval_metric':eval_metric\n",
    "}"
   ]
  },
  {
   "cell_type": "code",
   "execution_count": 28,
   "id": "7f26badd",
   "metadata": {
    "execution": {
     "iopub.execute_input": "2024-07-21T12:47:13.064417Z",
     "iopub.status.busy": "2024-07-21T12:47:13.064038Z",
     "iopub.status.idle": "2024-07-21T12:47:13.242911Z",
     "shell.execute_reply": "2024-07-21T12:47:13.241808Z"
    },
    "papermill": {
     "duration": 0.197217,
     "end_time": "2024-07-21T12:47:13.245530",
     "exception": false,
     "start_time": "2024-07-21T12:47:13.048313",
     "status": "completed"
    },
    "tags": []
   },
   "outputs": [],
   "source": [
    "from xgboost import XGBClassifier\n",
    "import xgboost as xgb\n",
    "from sklearn.model_selection import cross_val_score\n",
    "from sklearn import svm\n",
    "ship_model = RandomizedSearchCV(estimator = XGBClassifier(),\n",
    "                                param_distributions = random_grid,\n",
    "                                n_iter = 300,\n",
    "                                cv = 3, \n",
    "                                verbose=1,\n",
    "                                random_state=1,\n",
    "                                n_jobs = -1)"
   ]
  },
  {
   "cell_type": "code",
   "execution_count": 29,
   "id": "df387af0",
   "metadata": {
    "execution": {
     "iopub.execute_input": "2024-07-21T12:47:13.276940Z",
     "iopub.status.busy": "2024-07-21T12:47:13.276576Z",
     "iopub.status.idle": "2024-07-21T12:48:38.972528Z",
     "shell.execute_reply": "2024-07-21T12:48:38.971161Z"
    },
    "papermill": {
     "duration": 85.729103,
     "end_time": "2024-07-21T12:48:38.989590",
     "exception": false,
     "start_time": "2024-07-21T12:47:13.260487",
     "status": "completed"
    },
    "tags": []
   },
   "outputs": [
    {
     "name": "stdout",
     "output_type": "stream",
     "text": [
      "Fitting 3 folds for each of 300 candidates, totalling 900 fits\n"
     ]
    },
    {
     "data": {
      "text/html": [
       "<style>#sk-container-id-1 {color: black;background-color: white;}#sk-container-id-1 pre{padding: 0;}#sk-container-id-1 div.sk-toggleable {background-color: white;}#sk-container-id-1 label.sk-toggleable__label {cursor: pointer;display: block;width: 100%;margin-bottom: 0;padding: 0.3em;box-sizing: border-box;text-align: center;}#sk-container-id-1 label.sk-toggleable__label-arrow:before {content: \"▸\";float: left;margin-right: 0.25em;color: #696969;}#sk-container-id-1 label.sk-toggleable__label-arrow:hover:before {color: black;}#sk-container-id-1 div.sk-estimator:hover label.sk-toggleable__label-arrow:before {color: black;}#sk-container-id-1 div.sk-toggleable__content {max-height: 0;max-width: 0;overflow: hidden;text-align: left;background-color: #f0f8ff;}#sk-container-id-1 div.sk-toggleable__content pre {margin: 0.2em;color: black;border-radius: 0.25em;background-color: #f0f8ff;}#sk-container-id-1 input.sk-toggleable__control:checked~div.sk-toggleable__content {max-height: 200px;max-width: 100%;overflow: auto;}#sk-container-id-1 input.sk-toggleable__control:checked~label.sk-toggleable__label-arrow:before {content: \"▾\";}#sk-container-id-1 div.sk-estimator input.sk-toggleable__control:checked~label.sk-toggleable__label {background-color: #d4ebff;}#sk-container-id-1 div.sk-label input.sk-toggleable__control:checked~label.sk-toggleable__label {background-color: #d4ebff;}#sk-container-id-1 input.sk-hidden--visually {border: 0;clip: rect(1px 1px 1px 1px);clip: rect(1px, 1px, 1px, 1px);height: 1px;margin: -1px;overflow: hidden;padding: 0;position: absolute;width: 1px;}#sk-container-id-1 div.sk-estimator {font-family: monospace;background-color: #f0f8ff;border: 1px dotted black;border-radius: 0.25em;box-sizing: border-box;margin-bottom: 0.5em;}#sk-container-id-1 div.sk-estimator:hover {background-color: #d4ebff;}#sk-container-id-1 div.sk-parallel-item::after {content: \"\";width: 100%;border-bottom: 1px solid gray;flex-grow: 1;}#sk-container-id-1 div.sk-label:hover label.sk-toggleable__label {background-color: #d4ebff;}#sk-container-id-1 div.sk-serial::before {content: \"\";position: absolute;border-left: 1px solid gray;box-sizing: border-box;top: 0;bottom: 0;left: 50%;z-index: 0;}#sk-container-id-1 div.sk-serial {display: flex;flex-direction: column;align-items: center;background-color: white;padding-right: 0.2em;padding-left: 0.2em;position: relative;}#sk-container-id-1 div.sk-item {position: relative;z-index: 1;}#sk-container-id-1 div.sk-parallel {display: flex;align-items: stretch;justify-content: center;background-color: white;position: relative;}#sk-container-id-1 div.sk-item::before, #sk-container-id-1 div.sk-parallel-item::before {content: \"\";position: absolute;border-left: 1px solid gray;box-sizing: border-box;top: 0;bottom: 0;left: 50%;z-index: -1;}#sk-container-id-1 div.sk-parallel-item {display: flex;flex-direction: column;z-index: 1;position: relative;background-color: white;}#sk-container-id-1 div.sk-parallel-item:first-child::after {align-self: flex-end;width: 50%;}#sk-container-id-1 div.sk-parallel-item:last-child::after {align-self: flex-start;width: 50%;}#sk-container-id-1 div.sk-parallel-item:only-child::after {width: 0;}#sk-container-id-1 div.sk-dashed-wrapped {border: 1px dashed gray;margin: 0 0.4em 0.5em 0.4em;box-sizing: border-box;padding-bottom: 0.4em;background-color: white;}#sk-container-id-1 div.sk-label label {font-family: monospace;font-weight: bold;display: inline-block;line-height: 1.2em;}#sk-container-id-1 div.sk-label-container {text-align: center;}#sk-container-id-1 div.sk-container {/* jupyter's `normalize.less` sets `[hidden] { display: none; }` but bootstrap.min.css set `[hidden] { display: none !important; }` so we also need the `!important` here to be able to override the default hidden behavior on the sphinx rendered scikit-learn.org. See: https://github.com/scikit-learn/scikit-learn/issues/21755 */display: inline-block !important;position: relative;}#sk-container-id-1 div.sk-text-repr-fallback {display: none;}</style><div id=\"sk-container-id-1\" class=\"sk-top-container\"><div class=\"sk-text-repr-fallback\"><pre>RandomizedSearchCV(cv=3,\n",
       "                   estimator=XGBClassifier(base_score=None, booster=None,\n",
       "                                           callbacks=None,\n",
       "                                           colsample_bylevel=None,\n",
       "                                           colsample_bynode=None,\n",
       "                                           colsample_bytree=None, device=None,\n",
       "                                           early_stopping_rounds=None,\n",
       "                                           enable_categorical=False,\n",
       "                                           eval_metric=None, feature_types=None,\n",
       "                                           gamma=None, grow_policy=None,\n",
       "                                           importance_type=None,\n",
       "                                           interaction_constraints=None,\n",
       "                                           learning_rate...\n",
       "                                           num_parallel_tree=None,\n",
       "                                           random_state=None, ...),\n",
       "                   n_iter=300, n_jobs=-1,\n",
       "                   param_distributions={&#x27;colsample_bytree&#x27;: [0.5, 0.8, 1],\n",
       "                                        &#x27;eval_metric&#x27;: [&#x27;auc&#x27;, &#x27;mae&#x27;, &#x27;rmse&#x27;],\n",
       "                                        &#x27;gamma&#x27;: [1, 5, 10, 12, 14],\n",
       "                                        &#x27;learning_rate&#x27;: [0.1, 0.01, 0.001],\n",
       "                                        &#x27;max_depth&#x27;: [1, 20, 35, 50, 100],\n",
       "                                        &#x27;min_child_weight&#x27;: [0, 1, 5, 7, 10],\n",
       "                                        &#x27;n_estimators&#x27;: [50, 200, 500, 1000],\n",
       "                                        &#x27;reg_alpha&#x27;: [1, 2, 4],\n",
       "                                        &#x27;reg_lambda&#x27;: [1, 3, 5]},\n",
       "                   random_state=1, verbose=1)</pre><b>In a Jupyter environment, please rerun this cell to show the HTML representation or trust the notebook. <br />On GitHub, the HTML representation is unable to render, please try loading this page with nbviewer.org.</b></div><div class=\"sk-container\" hidden><div class=\"sk-item sk-dashed-wrapped\"><div class=\"sk-label-container\"><div class=\"sk-label sk-toggleable\"><input class=\"sk-toggleable__control sk-hidden--visually\" id=\"sk-estimator-id-1\" type=\"checkbox\" ><label for=\"sk-estimator-id-1\" class=\"sk-toggleable__label sk-toggleable__label-arrow\">RandomizedSearchCV</label><div class=\"sk-toggleable__content\"><pre>RandomizedSearchCV(cv=3,\n",
       "                   estimator=XGBClassifier(base_score=None, booster=None,\n",
       "                                           callbacks=None,\n",
       "                                           colsample_bylevel=None,\n",
       "                                           colsample_bynode=None,\n",
       "                                           colsample_bytree=None, device=None,\n",
       "                                           early_stopping_rounds=None,\n",
       "                                           enable_categorical=False,\n",
       "                                           eval_metric=None, feature_types=None,\n",
       "                                           gamma=None, grow_policy=None,\n",
       "                                           importance_type=None,\n",
       "                                           interaction_constraints=None,\n",
       "                                           learning_rate...\n",
       "                                           num_parallel_tree=None,\n",
       "                                           random_state=None, ...),\n",
       "                   n_iter=300, n_jobs=-1,\n",
       "                   param_distributions={&#x27;colsample_bytree&#x27;: [0.5, 0.8, 1],\n",
       "                                        &#x27;eval_metric&#x27;: [&#x27;auc&#x27;, &#x27;mae&#x27;, &#x27;rmse&#x27;],\n",
       "                                        &#x27;gamma&#x27;: [1, 5, 10, 12, 14],\n",
       "                                        &#x27;learning_rate&#x27;: [0.1, 0.01, 0.001],\n",
       "                                        &#x27;max_depth&#x27;: [1, 20, 35, 50, 100],\n",
       "                                        &#x27;min_child_weight&#x27;: [0, 1, 5, 7, 10],\n",
       "                                        &#x27;n_estimators&#x27;: [50, 200, 500, 1000],\n",
       "                                        &#x27;reg_alpha&#x27;: [1, 2, 4],\n",
       "                                        &#x27;reg_lambda&#x27;: [1, 3, 5]},\n",
       "                   random_state=1, verbose=1)</pre></div></div></div><div class=\"sk-parallel\"><div class=\"sk-parallel-item\"><div class=\"sk-item\"><div class=\"sk-label-container\"><div class=\"sk-label sk-toggleable\"><input class=\"sk-toggleable__control sk-hidden--visually\" id=\"sk-estimator-id-2\" type=\"checkbox\" ><label for=\"sk-estimator-id-2\" class=\"sk-toggleable__label sk-toggleable__label-arrow\">estimator: XGBClassifier</label><div class=\"sk-toggleable__content\"><pre>XGBClassifier(base_score=None, booster=None, callbacks=None,\n",
       "              colsample_bylevel=None, colsample_bynode=None,\n",
       "              colsample_bytree=None, device=None, early_stopping_rounds=None,\n",
       "              enable_categorical=False, eval_metric=None, feature_types=None,\n",
       "              gamma=None, grow_policy=None, importance_type=None,\n",
       "              interaction_constraints=None, learning_rate=None, max_bin=None,\n",
       "              max_cat_threshold=None, max_cat_to_onehot=None,\n",
       "              max_delta_step=None, max_depth=None, max_leaves=None,\n",
       "              min_child_weight=None, missing=nan, monotone_constraints=None,\n",
       "              multi_strategy=None, n_estimators=None, n_jobs=None,\n",
       "              num_parallel_tree=None, random_state=None, ...)</pre></div></div></div><div class=\"sk-serial\"><div class=\"sk-item\"><div class=\"sk-estimator sk-toggleable\"><input class=\"sk-toggleable__control sk-hidden--visually\" id=\"sk-estimator-id-3\" type=\"checkbox\" ><label for=\"sk-estimator-id-3\" class=\"sk-toggleable__label sk-toggleable__label-arrow\">XGBClassifier</label><div class=\"sk-toggleable__content\"><pre>XGBClassifier(base_score=None, booster=None, callbacks=None,\n",
       "              colsample_bylevel=None, colsample_bynode=None,\n",
       "              colsample_bytree=None, device=None, early_stopping_rounds=None,\n",
       "              enable_categorical=False, eval_metric=None, feature_types=None,\n",
       "              gamma=None, grow_policy=None, importance_type=None,\n",
       "              interaction_constraints=None, learning_rate=None, max_bin=None,\n",
       "              max_cat_threshold=None, max_cat_to_onehot=None,\n",
       "              max_delta_step=None, max_depth=None, max_leaves=None,\n",
       "              min_child_weight=None, missing=nan, monotone_constraints=None,\n",
       "              multi_strategy=None, n_estimators=None, n_jobs=None,\n",
       "              num_parallel_tree=None, random_state=None, ...)</pre></div></div></div></div></div></div></div></div></div></div>"
      ],
      "text/plain": [
       "RandomizedSearchCV(cv=3,\n",
       "                   estimator=XGBClassifier(base_score=None, booster=None,\n",
       "                                           callbacks=None,\n",
       "                                           colsample_bylevel=None,\n",
       "                                           colsample_bynode=None,\n",
       "                                           colsample_bytree=None, device=None,\n",
       "                                           early_stopping_rounds=None,\n",
       "                                           enable_categorical=False,\n",
       "                                           eval_metric=None, feature_types=None,\n",
       "                                           gamma=None, grow_policy=None,\n",
       "                                           importance_type=None,\n",
       "                                           interaction_constraints=None,\n",
       "                                           learning_rate...\n",
       "                                           num_parallel_tree=None,\n",
       "                                           random_state=None, ...),\n",
       "                   n_iter=300, n_jobs=-1,\n",
       "                   param_distributions={'colsample_bytree': [0.5, 0.8, 1],\n",
       "                                        'eval_metric': ['auc', 'mae', 'rmse'],\n",
       "                                        'gamma': [1, 5, 10, 12, 14],\n",
       "                                        'learning_rate': [0.1, 0.01, 0.001],\n",
       "                                        'max_depth': [1, 20, 35, 50, 100],\n",
       "                                        'min_child_weight': [0, 1, 5, 7, 10],\n",
       "                                        'n_estimators': [50, 200, 500, 1000],\n",
       "                                        'reg_alpha': [1, 2, 4],\n",
       "                                        'reg_lambda': [1, 3, 5]},\n",
       "                   random_state=1, verbose=1)"
      ]
     },
     "execution_count": 29,
     "metadata": {},
     "output_type": "execute_result"
    }
   ],
   "source": [
    "ship_model.fit(train_X, train_y, verbose=False)"
   ]
  },
  {
   "cell_type": "code",
   "execution_count": 30,
   "id": "ce8aa90a",
   "metadata": {
    "execution": {
     "iopub.execute_input": "2024-07-21T12:48:39.022475Z",
     "iopub.status.busy": "2024-07-21T12:48:39.021391Z",
     "iopub.status.idle": "2024-07-21T13:01:03.169036Z",
     "shell.execute_reply": "2024-07-21T13:01:03.167786Z"
    },
    "papermill": {
     "duration": 744.181392,
     "end_time": "2024-07-21T13:01:03.186042",
     "exception": false,
     "start_time": "2024-07-21T12:48:39.004650",
     "status": "completed"
    },
    "tags": []
   },
   "outputs": [
    {
     "name": "stdout",
     "output_type": "stream",
     "text": [
      "Fitting 3 folds for each of 300 candidates, totalling 900 fits\n",
      "Fitting 3 folds for each of 300 candidates, totalling 900 fits\n",
      "Fitting 3 folds for each of 300 candidates, totalling 900 fits\n",
      "Fitting 3 folds for each of 300 candidates, totalling 900 fits\n",
      "Fitting 3 folds for each of 300 candidates, totalling 900 fits\n",
      "0.77 accuracy with a standard deviation of 0.01\n"
     ]
    }
   ],
   "source": [
    "scores = cross_val_score(ship_model, X_res, y_res, cv=5)\n",
    "print(\"%0.2f accuracy with a standard deviation of %0.2f\" % (scores.mean(), scores.std()))"
   ]
  },
  {
   "cell_type": "code",
   "execution_count": 31,
   "id": "8069b56f",
   "metadata": {
    "execution": {
     "iopub.execute_input": "2024-07-21T13:01:03.218635Z",
     "iopub.status.busy": "2024-07-21T13:01:03.218259Z",
     "iopub.status.idle": "2024-07-21T13:01:03.237283Z",
     "shell.execute_reply": "2024-07-21T13:01:03.236163Z"
    },
    "papermill": {
     "duration": 0.038303,
     "end_time": "2024-07-21T13:01:03.239717",
     "exception": false,
     "start_time": "2024-07-21T13:01:03.201414",
     "status": "completed"
    },
    "tags": []
   },
   "outputs": [
    {
     "name": "stdout",
     "output_type": "stream",
     "text": [
      "[1 1 0 ... 1 0 0]\n"
     ]
    }
   ],
   "source": [
    "predictions = ship_model.predict(test_X)\n",
    "print(predictions)"
   ]
  },
  {
   "cell_type": "code",
   "execution_count": 32,
   "id": "0c26487a",
   "metadata": {
    "execution": {
     "iopub.execute_input": "2024-07-21T13:01:03.271912Z",
     "iopub.status.busy": "2024-07-21T13:01:03.271558Z",
     "iopub.status.idle": "2024-07-21T13:01:03.280207Z",
     "shell.execute_reply": "2024-07-21T13:01:03.279021Z"
    },
    "papermill": {
     "duration": 0.026981,
     "end_time": "2024-07-21T13:01:03.282178",
     "exception": false,
     "start_time": "2024-07-21T13:01:03.255197",
     "status": "completed"
    },
    "tags": []
   },
   "outputs": [
    {
     "name": "stdout",
     "output_type": "stream",
     "text": [
      "ROC_auc_score score of model 0.7600460065697592\n"
     ]
    }
   ],
   "source": [
    "from sklearn.metrics import roc_auc_score\n",
    "print(\"ROC_auc_score score of model\", roc_auc_score(test_y,predictions))"
   ]
  },
  {
   "cell_type": "code",
   "execution_count": 33,
   "id": "66038c09",
   "metadata": {
    "execution": {
     "iopub.execute_input": "2024-07-21T13:01:03.314836Z",
     "iopub.status.busy": "2024-07-21T13:01:03.314231Z",
     "iopub.status.idle": "2024-07-21T13:01:03.347236Z",
     "shell.execute_reply": "2024-07-21T13:01:03.346141Z"
    },
    "papermill": {
     "duration": 0.052021,
     "end_time": "2024-07-21T13:01:03.349676",
     "exception": false,
     "start_time": "2024-07-21T13:01:03.297655",
     "status": "completed"
    },
    "tags": []
   },
   "outputs": [],
   "source": [
    "df_test = pd.read_csv(\"/kaggle/input/spaceship-titanic/test.csv\")"
   ]
  },
  {
   "cell_type": "code",
   "execution_count": 34,
   "id": "4690d011",
   "metadata": {
    "execution": {
     "iopub.execute_input": "2024-07-21T13:01:03.382914Z",
     "iopub.status.busy": "2024-07-21T13:01:03.382233Z",
     "iopub.status.idle": "2024-07-21T13:01:03.402240Z",
     "shell.execute_reply": "2024-07-21T13:01:03.401192Z"
    },
    "papermill": {
     "duration": 0.039393,
     "end_time": "2024-07-21T13:01:03.404735",
     "exception": false,
     "start_time": "2024-07-21T13:01:03.365342",
     "status": "completed"
    },
    "tags": []
   },
   "outputs": [
    {
     "data": {
      "text/html": [
       "<div>\n",
       "<style scoped>\n",
       "    .dataframe tbody tr th:only-of-type {\n",
       "        vertical-align: middle;\n",
       "    }\n",
       "\n",
       "    .dataframe tbody tr th {\n",
       "        vertical-align: top;\n",
       "    }\n",
       "\n",
       "    .dataframe thead th {\n",
       "        text-align: right;\n",
       "    }\n",
       "</style>\n",
       "<table border=\"1\" class=\"dataframe\">\n",
       "  <thead>\n",
       "    <tr style=\"text-align: right;\">\n",
       "      <th></th>\n",
       "      <th>PassengerId</th>\n",
       "      <th>HomePlanet</th>\n",
       "      <th>CryoSleep</th>\n",
       "      <th>Cabin</th>\n",
       "      <th>Destination</th>\n",
       "      <th>Age</th>\n",
       "      <th>VIP</th>\n",
       "      <th>RoomService</th>\n",
       "      <th>FoodCourt</th>\n",
       "      <th>ShoppingMall</th>\n",
       "      <th>Spa</th>\n",
       "      <th>VRDeck</th>\n",
       "      <th>Name</th>\n",
       "    </tr>\n",
       "  </thead>\n",
       "  <tbody>\n",
       "    <tr>\n",
       "      <th>0</th>\n",
       "      <td>0013_01</td>\n",
       "      <td>Earth</td>\n",
       "      <td>True</td>\n",
       "      <td>G/3/S</td>\n",
       "      <td>TRAPPIST-1e</td>\n",
       "      <td>27.0</td>\n",
       "      <td>False</td>\n",
       "      <td>0.0</td>\n",
       "      <td>0.0</td>\n",
       "      <td>0.0</td>\n",
       "      <td>0.0</td>\n",
       "      <td>0.0</td>\n",
       "      <td>Nelly Carsoning</td>\n",
       "    </tr>\n",
       "    <tr>\n",
       "      <th>1</th>\n",
       "      <td>0018_01</td>\n",
       "      <td>Earth</td>\n",
       "      <td>False</td>\n",
       "      <td>F/4/S</td>\n",
       "      <td>TRAPPIST-1e</td>\n",
       "      <td>19.0</td>\n",
       "      <td>False</td>\n",
       "      <td>0.0</td>\n",
       "      <td>9.0</td>\n",
       "      <td>0.0</td>\n",
       "      <td>2823.0</td>\n",
       "      <td>0.0</td>\n",
       "      <td>Lerome Peckers</td>\n",
       "    </tr>\n",
       "    <tr>\n",
       "      <th>2</th>\n",
       "      <td>0019_01</td>\n",
       "      <td>Europa</td>\n",
       "      <td>True</td>\n",
       "      <td>C/0/S</td>\n",
       "      <td>55 Cancri e</td>\n",
       "      <td>31.0</td>\n",
       "      <td>False</td>\n",
       "      <td>0.0</td>\n",
       "      <td>0.0</td>\n",
       "      <td>0.0</td>\n",
       "      <td>0.0</td>\n",
       "      <td>0.0</td>\n",
       "      <td>Sabih Unhearfus</td>\n",
       "    </tr>\n",
       "    <tr>\n",
       "      <th>3</th>\n",
       "      <td>0021_01</td>\n",
       "      <td>Europa</td>\n",
       "      <td>False</td>\n",
       "      <td>C/1/S</td>\n",
       "      <td>TRAPPIST-1e</td>\n",
       "      <td>38.0</td>\n",
       "      <td>False</td>\n",
       "      <td>0.0</td>\n",
       "      <td>6652.0</td>\n",
       "      <td>0.0</td>\n",
       "      <td>181.0</td>\n",
       "      <td>585.0</td>\n",
       "      <td>Meratz Caltilter</td>\n",
       "    </tr>\n",
       "    <tr>\n",
       "      <th>4</th>\n",
       "      <td>0023_01</td>\n",
       "      <td>Earth</td>\n",
       "      <td>False</td>\n",
       "      <td>F/5/S</td>\n",
       "      <td>TRAPPIST-1e</td>\n",
       "      <td>20.0</td>\n",
       "      <td>False</td>\n",
       "      <td>10.0</td>\n",
       "      <td>0.0</td>\n",
       "      <td>635.0</td>\n",
       "      <td>0.0</td>\n",
       "      <td>0.0</td>\n",
       "      <td>Brence Harperez</td>\n",
       "    </tr>\n",
       "  </tbody>\n",
       "</table>\n",
       "</div>"
      ],
      "text/plain": [
       "  PassengerId HomePlanet CryoSleep  Cabin  Destination   Age    VIP  \\\n",
       "0     0013_01      Earth      True  G/3/S  TRAPPIST-1e  27.0  False   \n",
       "1     0018_01      Earth     False  F/4/S  TRAPPIST-1e  19.0  False   \n",
       "2     0019_01     Europa      True  C/0/S  55 Cancri e  31.0  False   \n",
       "3     0021_01     Europa     False  C/1/S  TRAPPIST-1e  38.0  False   \n",
       "4     0023_01      Earth     False  F/5/S  TRAPPIST-1e  20.0  False   \n",
       "\n",
       "   RoomService  FoodCourt  ShoppingMall     Spa  VRDeck              Name  \n",
       "0          0.0        0.0           0.0     0.0     0.0   Nelly Carsoning  \n",
       "1          0.0        9.0           0.0  2823.0     0.0    Lerome Peckers  \n",
       "2          0.0        0.0           0.0     0.0     0.0   Sabih Unhearfus  \n",
       "3          0.0     6652.0           0.0   181.0   585.0  Meratz Caltilter  \n",
       "4         10.0        0.0         635.0     0.0     0.0   Brence Harperez  "
      ]
     },
     "execution_count": 34,
     "metadata": {},
     "output_type": "execute_result"
    }
   ],
   "source": [
    "df_test.head()"
   ]
  },
  {
   "cell_type": "code",
   "execution_count": 35,
   "id": "45cb9c4e",
   "metadata": {
    "execution": {
     "iopub.execute_input": "2024-07-21T13:01:03.439138Z",
     "iopub.status.busy": "2024-07-21T13:01:03.438463Z",
     "iopub.status.idle": "2024-07-21T13:01:03.445898Z",
     "shell.execute_reply": "2024-07-21T13:01:03.444911Z"
    },
    "papermill": {
     "duration": 0.027507,
     "end_time": "2024-07-21T13:01:03.448272",
     "exception": false,
     "start_time": "2024-07-21T13:01:03.420765",
     "status": "completed"
    },
    "tags": []
   },
   "outputs": [
    {
     "name": "stdout",
     "output_type": "stream",
     "text": [
      "Block executed\n"
     ]
    }
   ],
   "source": [
    "df_test = df_test.drop(columns = [\"PassengerId\",\"Name\",\"Cabin\"])\n",
    "print(\"Block executed\")"
   ]
  },
  {
   "cell_type": "code",
   "execution_count": 36,
   "id": "a439ebd5",
   "metadata": {
    "execution": {
     "iopub.execute_input": "2024-07-21T13:01:03.482654Z",
     "iopub.status.busy": "2024-07-21T13:01:03.481888Z",
     "iopub.status.idle": "2024-07-21T13:01:03.494982Z",
     "shell.execute_reply": "2024-07-21T13:01:03.493742Z"
    },
    "papermill": {
     "duration": 0.032853,
     "end_time": "2024-07-21T13:01:03.497293",
     "exception": false,
     "start_time": "2024-07-21T13:01:03.464440",
     "status": "completed"
    },
    "tags": []
   },
   "outputs": [
    {
     "name": "stdout",
     "output_type": "stream",
     "text": [
      "Block executed\n"
     ]
    }
   ],
   "source": [
    "df_test[\"Age\"].fillna(df_test[\"Age\"].median(), inplace = True)   \n",
    "df_test[\"RoomService\"].fillna(df_test[\"RoomService\"].median(), inplace = True)\n",
    "df_test[\"FoodCourt\"].fillna(df_test[\"FoodCourt\"].median(), inplace = True)\n",
    "df_test[\"ShoppingMall\"].fillna(df_test[\"ShoppingMall\"].median(), inplace = True)\n",
    "df_test[\"Spa\"].fillna(df_test[\"Spa\"].median(), inplace = True)\n",
    "df_test[\"VRDeck\"].fillna(df_test[\"VRDeck\"].median(), inplace = True)\n",
    "print(\"Block executed\")"
   ]
  },
  {
   "cell_type": "code",
   "execution_count": 37,
   "id": "de69ed1e",
   "metadata": {
    "execution": {
     "iopub.execute_input": "2024-07-21T13:01:03.530615Z",
     "iopub.status.busy": "2024-07-21T13:01:03.530233Z",
     "iopub.status.idle": "2024-07-21T13:01:03.562345Z",
     "shell.execute_reply": "2024-07-21T13:01:03.561149Z"
    },
    "papermill": {
     "duration": 0.051393,
     "end_time": "2024-07-21T13:01:03.564591",
     "exception": false,
     "start_time": "2024-07-21T13:01:03.513198",
     "status": "completed"
    },
    "tags": []
   },
   "outputs": [
    {
     "data": {
      "text/html": [
       "<div>\n",
       "<style scoped>\n",
       "    .dataframe tbody tr th:only-of-type {\n",
       "        vertical-align: middle;\n",
       "    }\n",
       "\n",
       "    .dataframe tbody tr th {\n",
       "        vertical-align: top;\n",
       "    }\n",
       "\n",
       "    .dataframe thead th {\n",
       "        text-align: right;\n",
       "    }\n",
       "</style>\n",
       "<table border=\"1\" class=\"dataframe\">\n",
       "  <thead>\n",
       "    <tr style=\"text-align: right;\">\n",
       "      <th></th>\n",
       "      <th>HomePlanet_Earth</th>\n",
       "      <th>HomePlanet_Europa</th>\n",
       "      <th>HomePlanet_Mars</th>\n",
       "      <th>HomePlanet_nan</th>\n",
       "      <th>CryoSleep_False</th>\n",
       "      <th>CryoSleep_True</th>\n",
       "      <th>CryoSleep_nan</th>\n",
       "      <th>Destination_55 Cancri e</th>\n",
       "      <th>Destination_PSO J318.5-22</th>\n",
       "      <th>Destination_TRAPPIST-1e</th>\n",
       "      <th>Destination_nan</th>\n",
       "      <th>VIP_False</th>\n",
       "      <th>VIP_True</th>\n",
       "      <th>VIP_nan</th>\n",
       "      <th>RoomService</th>\n",
       "      <th>FoodCourt</th>\n",
       "      <th>ShoppingMall</th>\n",
       "      <th>Spa</th>\n",
       "      <th>VRDeck</th>\n",
       "    </tr>\n",
       "  </thead>\n",
       "  <tbody>\n",
       "    <tr>\n",
       "      <th>0</th>\n",
       "      <td>1</td>\n",
       "      <td>0</td>\n",
       "      <td>0</td>\n",
       "      <td>0</td>\n",
       "      <td>0</td>\n",
       "      <td>1</td>\n",
       "      <td>0</td>\n",
       "      <td>0</td>\n",
       "      <td>0</td>\n",
       "      <td>1</td>\n",
       "      <td>0</td>\n",
       "      <td>1</td>\n",
       "      <td>0</td>\n",
       "      <td>0</td>\n",
       "      <td>0.0</td>\n",
       "      <td>0.0</td>\n",
       "      <td>0.0</td>\n",
       "      <td>0.0</td>\n",
       "      <td>0.0</td>\n",
       "    </tr>\n",
       "    <tr>\n",
       "      <th>1</th>\n",
       "      <td>1</td>\n",
       "      <td>0</td>\n",
       "      <td>0</td>\n",
       "      <td>0</td>\n",
       "      <td>1</td>\n",
       "      <td>0</td>\n",
       "      <td>0</td>\n",
       "      <td>0</td>\n",
       "      <td>0</td>\n",
       "      <td>1</td>\n",
       "      <td>0</td>\n",
       "      <td>1</td>\n",
       "      <td>0</td>\n",
       "      <td>0</td>\n",
       "      <td>0.0</td>\n",
       "      <td>9.0</td>\n",
       "      <td>0.0</td>\n",
       "      <td>2823.0</td>\n",
       "      <td>0.0</td>\n",
       "    </tr>\n",
       "    <tr>\n",
       "      <th>2</th>\n",
       "      <td>0</td>\n",
       "      <td>1</td>\n",
       "      <td>0</td>\n",
       "      <td>0</td>\n",
       "      <td>0</td>\n",
       "      <td>1</td>\n",
       "      <td>0</td>\n",
       "      <td>1</td>\n",
       "      <td>0</td>\n",
       "      <td>0</td>\n",
       "      <td>0</td>\n",
       "      <td>1</td>\n",
       "      <td>0</td>\n",
       "      <td>0</td>\n",
       "      <td>0.0</td>\n",
       "      <td>0.0</td>\n",
       "      <td>0.0</td>\n",
       "      <td>0.0</td>\n",
       "      <td>0.0</td>\n",
       "    </tr>\n",
       "    <tr>\n",
       "      <th>3</th>\n",
       "      <td>0</td>\n",
       "      <td>1</td>\n",
       "      <td>0</td>\n",
       "      <td>0</td>\n",
       "      <td>1</td>\n",
       "      <td>0</td>\n",
       "      <td>0</td>\n",
       "      <td>0</td>\n",
       "      <td>0</td>\n",
       "      <td>1</td>\n",
       "      <td>0</td>\n",
       "      <td>1</td>\n",
       "      <td>0</td>\n",
       "      <td>0</td>\n",
       "      <td>0.0</td>\n",
       "      <td>6652.0</td>\n",
       "      <td>0.0</td>\n",
       "      <td>181.0</td>\n",
       "      <td>585.0</td>\n",
       "    </tr>\n",
       "    <tr>\n",
       "      <th>4</th>\n",
       "      <td>1</td>\n",
       "      <td>0</td>\n",
       "      <td>0</td>\n",
       "      <td>0</td>\n",
       "      <td>1</td>\n",
       "      <td>0</td>\n",
       "      <td>0</td>\n",
       "      <td>0</td>\n",
       "      <td>0</td>\n",
       "      <td>1</td>\n",
       "      <td>0</td>\n",
       "      <td>1</td>\n",
       "      <td>0</td>\n",
       "      <td>0</td>\n",
       "      <td>10.0</td>\n",
       "      <td>0.0</td>\n",
       "      <td>635.0</td>\n",
       "      <td>0.0</td>\n",
       "      <td>0.0</td>\n",
       "    </tr>\n",
       "  </tbody>\n",
       "</table>\n",
       "</div>"
      ],
      "text/plain": [
       "   HomePlanet_Earth  HomePlanet_Europa  HomePlanet_Mars  HomePlanet_nan  \\\n",
       "0                 1                  0                0               0   \n",
       "1                 1                  0                0               0   \n",
       "2                 0                  1                0               0   \n",
       "3                 0                  1                0               0   \n",
       "4                 1                  0                0               0   \n",
       "\n",
       "   CryoSleep_False  CryoSleep_True  CryoSleep_nan  Destination_55 Cancri e  \\\n",
       "0                0               1              0                        0   \n",
       "1                1               0              0                        0   \n",
       "2                0               1              0                        1   \n",
       "3                1               0              0                        0   \n",
       "4                1               0              0                        0   \n",
       "\n",
       "   Destination_PSO J318.5-22  Destination_TRAPPIST-1e  Destination_nan  \\\n",
       "0                          0                        1                0   \n",
       "1                          0                        1                0   \n",
       "2                          0                        0                0   \n",
       "3                          0                        1                0   \n",
       "4                          0                        1                0   \n",
       "\n",
       "   VIP_False  VIP_True  VIP_nan  RoomService  FoodCourt  ShoppingMall     Spa  \\\n",
       "0          1         0        0          0.0        0.0           0.0     0.0   \n",
       "1          1         0        0          0.0        9.0           0.0  2823.0   \n",
       "2          1         0        0          0.0        0.0           0.0     0.0   \n",
       "3          1         0        0          0.0     6652.0           0.0   181.0   \n",
       "4          1         0        0         10.0        0.0         635.0     0.0   \n",
       "\n",
       "   VRDeck  \n",
       "0     0.0  \n",
       "1     0.0  \n",
       "2     0.0  \n",
       "3   585.0  \n",
       "4     0.0  "
      ]
     },
     "execution_count": 37,
     "metadata": {},
     "output_type": "execute_result"
    }
   ],
   "source": [
    "cat_cols_test = df_test[['HomePlanet', 'CryoSleep','Destination','VIP']]\n",
    "num_cols_test = df_test[['RoomService', 'FoodCourt', 'ShoppingMall', 'Spa', 'VRDeck']]\n",
    "df_test_enc = enc.fit_transform(cat_cols_test)\n",
    "df_pro_test = pd.concat([df_test_enc , num_cols_test.set_axis(df_test_enc.index)], axis = 1)\n",
    "df_pro_test.head()"
   ]
  },
  {
   "cell_type": "code",
   "execution_count": 38,
   "id": "7c868037",
   "metadata": {
    "execution": {
     "iopub.execute_input": "2024-07-21T13:01:03.599720Z",
     "iopub.status.busy": "2024-07-21T13:01:03.599344Z",
     "iopub.status.idle": "2024-07-21T13:01:03.607826Z",
     "shell.execute_reply": "2024-07-21T13:01:03.606824Z"
    },
    "papermill": {
     "duration": 0.028079,
     "end_time": "2024-07-21T13:01:03.610056",
     "exception": false,
     "start_time": "2024-07-21T13:01:03.581977",
     "status": "completed"
    },
    "tags": []
   },
   "outputs": [
    {
     "data": {
      "text/plain": [
       "HomePlanet_Earth             0\n",
       "HomePlanet_Europa            0\n",
       "HomePlanet_Mars              0\n",
       "HomePlanet_nan               0\n",
       "CryoSleep_False              0\n",
       "CryoSleep_True               0\n",
       "CryoSleep_nan                0\n",
       "Destination_55 Cancri e      0\n",
       "Destination_PSO J318.5-22    0\n",
       "Destination_TRAPPIST-1e      0\n",
       "Destination_nan              0\n",
       "VIP_False                    0\n",
       "VIP_True                     0\n",
       "VIP_nan                      0\n",
       "RoomService                  0\n",
       "FoodCourt                    0\n",
       "ShoppingMall                 0\n",
       "Spa                          0\n",
       "VRDeck                       0\n",
       "dtype: int64"
      ]
     },
     "execution_count": 38,
     "metadata": {},
     "output_type": "execute_result"
    }
   ],
   "source": [
    "df_pro_test.isnull().sum()"
   ]
  },
  {
   "cell_type": "code",
   "execution_count": 39,
   "id": "3e23cc72",
   "metadata": {
    "execution": {
     "iopub.execute_input": "2024-07-21T13:01:03.645065Z",
     "iopub.status.busy": "2024-07-21T13:01:03.644269Z",
     "iopub.status.idle": "2024-07-21T13:01:03.649955Z",
     "shell.execute_reply": "2024-07-21T13:01:03.648889Z"
    },
    "papermill": {
     "duration": 0.02588,
     "end_time": "2024-07-21T13:01:03.652630",
     "exception": false,
     "start_time": "2024-07-21T13:01:03.626750",
     "status": "completed"
    },
    "tags": []
   },
   "outputs": [
    {
     "name": "stdout",
     "output_type": "stream",
     "text": [
      "[ True  True False False  True  True False False False False False False\n",
      " False False  True False False  True  True]\n"
     ]
    }
   ],
   "source": [
    "print(list1)"
   ]
  },
  {
   "cell_type": "code",
   "execution_count": 40,
   "id": "2b70a8c4",
   "metadata": {
    "execution": {
     "iopub.execute_input": "2024-07-21T13:01:03.688475Z",
     "iopub.status.busy": "2024-07-21T13:01:03.688085Z",
     "iopub.status.idle": "2024-07-21T13:01:03.694212Z",
     "shell.execute_reply": "2024-07-21T13:01:03.693081Z"
    },
    "papermill": {
     "duration": 0.027867,
     "end_time": "2024-07-21T13:01:03.696819",
     "exception": false,
     "start_time": "2024-07-21T13:01:03.668952",
     "status": "completed"
    },
    "tags": []
   },
   "outputs": [
    {
     "name": "stdout",
     "output_type": "stream",
     "text": [
      "[2, 3, 6, 7, 8, 9, 10, 11, 12, 13, 15, 16]\n"
     ]
    }
   ],
   "source": [
    "i = 0\n",
    "list_positions = []\n",
    "while i<len(list1):\n",
    "    if list1[i] == False:\n",
    "        list_positions.append(i)\n",
    "    i+=1\n",
    "print(list_positions)"
   ]
  },
  {
   "cell_type": "code",
   "execution_count": 41,
   "id": "6564d8d1",
   "metadata": {
    "execution": {
     "iopub.execute_input": "2024-07-21T13:01:03.731989Z",
     "iopub.status.busy": "2024-07-21T13:01:03.731605Z",
     "iopub.status.idle": "2024-07-21T13:01:03.737702Z",
     "shell.execute_reply": "2024-07-21T13:01:03.736667Z"
    },
    "papermill": {
     "duration": 0.026586,
     "end_time": "2024-07-21T13:01:03.740178",
     "exception": false,
     "start_time": "2024-07-21T13:01:03.713592",
     "status": "completed"
    },
    "tags": []
   },
   "outputs": [],
   "source": [
    "df_pro_test.drop(df_pro_test.columns[list_positions], axis=1, inplace =True)"
   ]
  },
  {
   "cell_type": "code",
   "execution_count": 42,
   "id": "408b5cd2",
   "metadata": {
    "execution": {
     "iopub.execute_input": "2024-07-21T13:01:03.775339Z",
     "iopub.status.busy": "2024-07-21T13:01:03.774576Z",
     "iopub.status.idle": "2024-07-21T13:01:03.787456Z",
     "shell.execute_reply": "2024-07-21T13:01:03.786436Z"
    },
    "papermill": {
     "duration": 0.033053,
     "end_time": "2024-07-21T13:01:03.789828",
     "exception": false,
     "start_time": "2024-07-21T13:01:03.756775",
     "status": "completed"
    },
    "tags": []
   },
   "outputs": [
    {
     "data": {
      "text/html": [
       "<div>\n",
       "<style scoped>\n",
       "    .dataframe tbody tr th:only-of-type {\n",
       "        vertical-align: middle;\n",
       "    }\n",
       "\n",
       "    .dataframe tbody tr th {\n",
       "        vertical-align: top;\n",
       "    }\n",
       "\n",
       "    .dataframe thead th {\n",
       "        text-align: right;\n",
       "    }\n",
       "</style>\n",
       "<table border=\"1\" class=\"dataframe\">\n",
       "  <thead>\n",
       "    <tr style=\"text-align: right;\">\n",
       "      <th></th>\n",
       "      <th>HomePlanet_Earth</th>\n",
       "      <th>HomePlanet_Europa</th>\n",
       "      <th>CryoSleep_False</th>\n",
       "      <th>CryoSleep_True</th>\n",
       "      <th>RoomService</th>\n",
       "      <th>Spa</th>\n",
       "      <th>VRDeck</th>\n",
       "    </tr>\n",
       "  </thead>\n",
       "  <tbody>\n",
       "    <tr>\n",
       "      <th>0</th>\n",
       "      <td>1</td>\n",
       "      <td>0</td>\n",
       "      <td>0</td>\n",
       "      <td>1</td>\n",
       "      <td>0.0</td>\n",
       "      <td>0.0</td>\n",
       "      <td>0.0</td>\n",
       "    </tr>\n",
       "    <tr>\n",
       "      <th>1</th>\n",
       "      <td>1</td>\n",
       "      <td>0</td>\n",
       "      <td>1</td>\n",
       "      <td>0</td>\n",
       "      <td>0.0</td>\n",
       "      <td>2823.0</td>\n",
       "      <td>0.0</td>\n",
       "    </tr>\n",
       "    <tr>\n",
       "      <th>2</th>\n",
       "      <td>0</td>\n",
       "      <td>1</td>\n",
       "      <td>0</td>\n",
       "      <td>1</td>\n",
       "      <td>0.0</td>\n",
       "      <td>0.0</td>\n",
       "      <td>0.0</td>\n",
       "    </tr>\n",
       "    <tr>\n",
       "      <th>3</th>\n",
       "      <td>0</td>\n",
       "      <td>1</td>\n",
       "      <td>1</td>\n",
       "      <td>0</td>\n",
       "      <td>0.0</td>\n",
       "      <td>181.0</td>\n",
       "      <td>585.0</td>\n",
       "    </tr>\n",
       "    <tr>\n",
       "      <th>4</th>\n",
       "      <td>1</td>\n",
       "      <td>0</td>\n",
       "      <td>1</td>\n",
       "      <td>0</td>\n",
       "      <td>10.0</td>\n",
       "      <td>0.0</td>\n",
       "      <td>0.0</td>\n",
       "    </tr>\n",
       "  </tbody>\n",
       "</table>\n",
       "</div>"
      ],
      "text/plain": [
       "   HomePlanet_Earth  HomePlanet_Europa  CryoSleep_False  CryoSleep_True  \\\n",
       "0                 1                  0                0               1   \n",
       "1                 1                  0                1               0   \n",
       "2                 0                  1                0               1   \n",
       "3                 0                  1                1               0   \n",
       "4                 1                  0                1               0   \n",
       "\n",
       "   RoomService     Spa  VRDeck  \n",
       "0          0.0     0.0     0.0  \n",
       "1          0.0  2823.0     0.0  \n",
       "2          0.0     0.0     0.0  \n",
       "3          0.0   181.0   585.0  \n",
       "4         10.0     0.0     0.0  "
      ]
     },
     "execution_count": 42,
     "metadata": {},
     "output_type": "execute_result"
    }
   ],
   "source": [
    "df_pro_test.head()"
   ]
  },
  {
   "cell_type": "code",
   "execution_count": 43,
   "id": "7ce77ffb",
   "metadata": {
    "execution": {
     "iopub.execute_input": "2024-07-21T13:01:03.826438Z",
     "iopub.status.busy": "2024-07-21T13:01:03.825649Z",
     "iopub.status.idle": "2024-07-21T13:01:03.851489Z",
     "shell.execute_reply": "2024-07-21T13:01:03.850039Z"
    },
    "papermill": {
     "duration": 0.046622,
     "end_time": "2024-07-21T13:01:03.853705",
     "exception": false,
     "start_time": "2024-07-21T13:01:03.807083",
     "status": "completed"
    },
    "tags": []
   },
   "outputs": [
    {
     "name": "stdout",
     "output_type": "stream",
     "text": [
      "[1 0 1 ... 1 0 1]\n"
     ]
    }
   ],
   "source": [
    "test_predictions = ship_model.predict(df_pro_test)\n",
    "print(test_predictions)\n"
   ]
  },
  {
   "cell_type": "code",
   "execution_count": 44,
   "id": "4df84fba",
   "metadata": {
    "execution": {
     "iopub.execute_input": "2024-07-21T13:01:03.889198Z",
     "iopub.status.busy": "2024-07-21T13:01:03.888390Z",
     "iopub.status.idle": "2024-07-21T13:01:03.909990Z",
     "shell.execute_reply": "2024-07-21T13:01:03.909029Z"
    },
    "papermill": {
     "duration": 0.042061,
     "end_time": "2024-07-21T13:01:03.912547",
     "exception": false,
     "start_time": "2024-07-21T13:01:03.870486",
     "status": "completed"
    },
    "tags": []
   },
   "outputs": [],
   "source": [
    "df_test2 = pd.read_csv(\"/kaggle/input/spaceship-titanic/test.csv\")"
   ]
  },
  {
   "cell_type": "code",
   "execution_count": 45,
   "id": "1f3deb0a",
   "metadata": {
    "execution": {
     "iopub.execute_input": "2024-07-21T13:01:03.948178Z",
     "iopub.status.busy": "2024-07-21T13:01:03.947757Z",
     "iopub.status.idle": "2024-07-21T13:01:03.953446Z",
     "shell.execute_reply": "2024-07-21T13:01:03.952417Z"
    },
    "papermill": {
     "duration": 0.026501,
     "end_time": "2024-07-21T13:01:03.956179",
     "exception": false,
     "start_time": "2024-07-21T13:01:03.929678",
     "status": "completed"
    },
    "tags": []
   },
   "outputs": [
    {
     "name": "stdout",
     "output_type": "stream",
     "text": [
      "[ True False  True ...  True False  True]\n"
     ]
    }
   ],
   "source": [
    "from array import array\n",
    "test_prediction_bool = np.array(test_predictions,dtype='bool')\n",
    "print(test_prediction_bool)"
   ]
  },
  {
   "cell_type": "code",
   "execution_count": 46,
   "id": "6637ab23",
   "metadata": {
    "execution": {
     "iopub.execute_input": "2024-07-21T13:01:03.993807Z",
     "iopub.status.busy": "2024-07-21T13:01:03.992879Z",
     "iopub.status.idle": "2024-07-21T13:01:03.998520Z",
     "shell.execute_reply": "2024-07-21T13:01:03.997487Z"
    },
    "papermill": {
     "duration": 0.026961,
     "end_time": "2024-07-21T13:01:04.000663",
     "exception": false,
     "start_time": "2024-07-21T13:01:03.973702",
     "status": "completed"
    },
    "tags": []
   },
   "outputs": [],
   "source": [
    "output = pd.DataFrame({'PassengerId': df_test2.PassengerId,\n",
    "                       'Transported': test_prediction_bool})"
   ]
  },
  {
   "cell_type": "code",
   "execution_count": 47,
   "id": "d4036b6c",
   "metadata": {
    "execution": {
     "iopub.execute_input": "2024-07-21T13:01:04.037234Z",
     "iopub.status.busy": "2024-07-21T13:01:04.036398Z",
     "iopub.status.idle": "2024-07-21T13:01:04.048386Z",
     "shell.execute_reply": "2024-07-21T13:01:04.047329Z"
    },
    "papermill": {
     "duration": 0.032625,
     "end_time": "2024-07-21T13:01:04.050797",
     "exception": false,
     "start_time": "2024-07-21T13:01:04.018172",
     "status": "completed"
    },
    "tags": []
   },
   "outputs": [],
   "source": [
    "output.to_csv('space_titanic_submission10.csv', index=False)"
   ]
  }
 ],
 "metadata": {
  "kaggle": {
   "accelerator": "none",
   "dataSources": [
    {
     "databundleVersionId": 3220602,
     "sourceId": 34377,
     "sourceType": "competition"
    }
   ],
   "dockerImageVersionId": 30732,
   "isGpuEnabled": false,
   "isInternetEnabled": true,
   "language": "python",
   "sourceType": "notebook"
  },
  "kernelspec": {
   "display_name": "Python 3",
   "language": "python",
   "name": "python3"
  },
  "language_info": {
   "codemirror_mode": {
    "name": "ipython",
    "version": 3
   },
   "file_extension": ".py",
   "mimetype": "text/x-python",
   "name": "python",
   "nbconvert_exporter": "python",
   "pygments_lexer": "ipython3",
   "version": "3.10.13"
  },
  "papermill": {
   "default_parameters": {},
   "duration": 845.168797,
   "end_time": "2024-07-21T13:01:06.691203",
   "environment_variables": {},
   "exception": null,
   "input_path": "__notebook__.ipynb",
   "output_path": "__notebook__.ipynb",
   "parameters": {},
   "start_time": "2024-07-21T12:47:01.522406",
   "version": "2.5.0"
  }
 },
 "nbformat": 4,
 "nbformat_minor": 5
}
